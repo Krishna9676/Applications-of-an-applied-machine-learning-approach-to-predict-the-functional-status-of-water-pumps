{
  "nbformat": 4,
  "nbformat_minor": 0,
  "metadata": {
    "colab": {
      "provenance": [],
      "collapsed_sections": []
    },
    "kernelspec": {
      "name": "python3",
      "display_name": "Python 3"
    },
    "language_info": {
      "name": "python"
    }
  },
  "cells": [
    {
      "cell_type": "code",
      "source": [
        "!pip install mlxtend"
      ],
      "metadata": {
        "colab": {
          "base_uri": "https://localhost:8080/"
        },
        "id": "Ci4ZEUGfdSTH",
        "outputId": "6272577e-6535-4b95-dff9-6737b406aeeb"
      },
      "execution_count": 2,
      "outputs": [
        {
          "output_type": "stream",
          "name": "stdout",
          "text": [
            "Looking in indexes: https://pypi.org/simple, https://us-python.pkg.dev/colab-wheels/public/simple/\n",
            "Requirement already satisfied: mlxtend in /usr/local/lib/python3.7/dist-packages (0.14.0)\n",
            "Requirement already satisfied: setuptools in /usr/local/lib/python3.7/dist-packages (from mlxtend) (57.4.0)\n",
            "Requirement already satisfied: matplotlib>=1.5.1 in /usr/local/lib/python3.7/dist-packages (from mlxtend) (3.2.2)\n",
            "Requirement already satisfied: scipy>=0.17 in /usr/local/lib/python3.7/dist-packages (from mlxtend) (1.7.3)\n",
            "Requirement already satisfied: scikit-learn>=0.18 in /usr/local/lib/python3.7/dist-packages (from mlxtend) (1.0.2)\n",
            "Requirement already satisfied: pandas>=0.17.1 in /usr/local/lib/python3.7/dist-packages (from mlxtend) (1.3.5)\n",
            "Requirement already satisfied: numpy>=1.10.4 in /usr/local/lib/python3.7/dist-packages (from mlxtend) (1.21.6)\n",
            "Requirement already satisfied: cycler>=0.10 in /usr/local/lib/python3.7/dist-packages (from matplotlib>=1.5.1->mlxtend) (0.11.0)\n",
            "Requirement already satisfied: python-dateutil>=2.1 in /usr/local/lib/python3.7/dist-packages (from matplotlib>=1.5.1->mlxtend) (2.8.2)\n",
            "Requirement already satisfied: kiwisolver>=1.0.1 in /usr/local/lib/python3.7/dist-packages (from matplotlib>=1.5.1->mlxtend) (1.4.4)\n",
            "Requirement already satisfied: pyparsing!=2.0.4,!=2.1.2,!=2.1.6,>=2.0.1 in /usr/local/lib/python3.7/dist-packages (from matplotlib>=1.5.1->mlxtend) (3.0.9)\n",
            "Requirement already satisfied: typing-extensions in /usr/local/lib/python3.7/dist-packages (from kiwisolver>=1.0.1->matplotlib>=1.5.1->mlxtend) (4.1.1)\n",
            "Requirement already satisfied: pytz>=2017.3 in /usr/local/lib/python3.7/dist-packages (from pandas>=0.17.1->mlxtend) (2022.5)\n",
            "Requirement already satisfied: six>=1.5 in /usr/local/lib/python3.7/dist-packages (from python-dateutil>=2.1->matplotlib>=1.5.1->mlxtend) (1.15.0)\n",
            "Requirement already satisfied: threadpoolctl>=2.0.0 in /usr/local/lib/python3.7/dist-packages (from scikit-learn>=0.18->mlxtend) (3.1.0)\n",
            "Requirement already satisfied: joblib>=0.11 in /usr/local/lib/python3.7/dist-packages (from scikit-learn>=0.18->mlxtend) (1.2.0)\n"
          ]
        }
      ]
    },
    {
      "cell_type": "code",
      "source": [
        "!pip install pmdarima"
      ],
      "metadata": {
        "colab": {
          "base_uri": "https://localhost:8080/"
        },
        "id": "4qs6FG25d6_W",
        "outputId": "ae4deddf-acf9-4523-d7ec-54286e033987"
      },
      "execution_count": 3,
      "outputs": [
        {
          "output_type": "stream",
          "name": "stdout",
          "text": [
            "Looking in indexes: https://pypi.org/simple, https://us-python.pkg.dev/colab-wheels/public/simple/\n",
            "Collecting pmdarima\n",
            "  Downloading pmdarima-2.0.1-cp37-cp37m-manylinux_2_17_x86_64.manylinux2014_x86_64.manylinux_2_28_x86_64.whl (1.8 MB)\n",
            "\u001b[K     |████████████████████████████████| 1.8 MB 4.9 MB/s \n",
            "\u001b[?25hRequirement already satisfied: scikit-learn>=0.22 in /usr/local/lib/python3.7/dist-packages (from pmdarima) (1.0.2)\n",
            "Requirement already satisfied: pandas>=0.19 in /usr/local/lib/python3.7/dist-packages (from pmdarima) (1.3.5)\n",
            "Requirement already satisfied: scipy>=1.3.2 in /usr/local/lib/python3.7/dist-packages (from pmdarima) (1.7.3)\n",
            "Requirement already satisfied: urllib3 in /usr/local/lib/python3.7/dist-packages (from pmdarima) (1.24.3)\n",
            "Requirement already satisfied: numpy>=1.21 in /usr/local/lib/python3.7/dist-packages (from pmdarima) (1.21.6)\n",
            "Requirement already satisfied: Cython!=0.29.18,!=0.29.31,>=0.29 in /usr/local/lib/python3.7/dist-packages (from pmdarima) (0.29.32)\n",
            "Requirement already satisfied: setuptools!=50.0.0,>=38.6.0 in /usr/local/lib/python3.7/dist-packages (from pmdarima) (57.4.0)\n",
            "Requirement already satisfied: joblib>=0.11 in /usr/local/lib/python3.7/dist-packages (from pmdarima) (1.2.0)\n",
            "Collecting statsmodels>=0.13.2\n",
            "  Downloading statsmodels-0.13.2-cp37-cp37m-manylinux_2_17_x86_64.manylinux2014_x86_64.whl (9.8 MB)\n",
            "\u001b[K     |████████████████████████████████| 9.8 MB 42.6 MB/s \n",
            "\u001b[?25hRequirement already satisfied: python-dateutil>=2.7.3 in /usr/local/lib/python3.7/dist-packages (from pandas>=0.19->pmdarima) (2.8.2)\n",
            "Requirement already satisfied: pytz>=2017.3 in /usr/local/lib/python3.7/dist-packages (from pandas>=0.19->pmdarima) (2022.5)\n",
            "Requirement already satisfied: six>=1.5 in /usr/local/lib/python3.7/dist-packages (from python-dateutil>=2.7.3->pandas>=0.19->pmdarima) (1.15.0)\n",
            "Requirement already satisfied: threadpoolctl>=2.0.0 in /usr/local/lib/python3.7/dist-packages (from scikit-learn>=0.22->pmdarima) (3.1.0)\n",
            "Requirement already satisfied: patsy>=0.5.2 in /usr/local/lib/python3.7/dist-packages (from statsmodels>=0.13.2->pmdarima) (0.5.3)\n",
            "Requirement already satisfied: packaging>=21.3 in /usr/local/lib/python3.7/dist-packages (from statsmodels>=0.13.2->pmdarima) (21.3)\n",
            "Requirement already satisfied: pyparsing!=3.0.5,>=2.0.2 in /usr/local/lib/python3.7/dist-packages (from packaging>=21.3->statsmodels>=0.13.2->pmdarima) (3.0.9)\n",
            "Installing collected packages: statsmodels, pmdarima\n",
            "  Attempting uninstall: statsmodels\n",
            "    Found existing installation: statsmodels 0.12.2\n",
            "    Uninstalling statsmodels-0.12.2:\n",
            "      Successfully uninstalled statsmodels-0.12.2\n",
            "Successfully installed pmdarima-2.0.1 statsmodels-0.13.2\n"
          ]
        }
      ]
    },
    {
      "cell_type": "code",
      "execution_count": 4,
      "metadata": {
        "id": "qEV9ss5Y0NAJ"
      },
      "outputs": [],
      "source": [
        "#importing libraries\n",
        "import seaborn as sns\n",
        "from sklearn.datasets import load_boston\n",
        "import pandas as pd\n",
        "import matplotlib.pyplot as plt\n",
        "%matplotlib inline\n",
        "from sklearn import preprocessing"
      ]
    },
    {
      "cell_type": "code",
      "source": [
        "import pandas as pd\n",
        "df_train_label=pd.read_csv('/content/drive/MyDrive/self case study 1/train labels.csv')\n",
        "df_train_var=pd.read_csv('/content/drive/MyDrive/self case study 1/train variables.csv')\n",
        "df=df_train_var.merge(df_train_label)"
      ],
      "metadata": {
        "id": "zNatWKi84n-9"
      },
      "execution_count": 5,
      "outputs": []
    },
    {
      "cell_type": "code",
      "source": [
        "df_test=pd.read_csv('/content/702ddfc5-68cd-4d1d-a0de-f5f566f76d91.csv')\n",
        "df_test.head()"
      ],
      "metadata": {
        "colab": {
          "base_uri": "https://localhost:8080/",
          "height": 404
        },
        "id": "5L2pniZP4roV",
        "outputId": "69c9010f-5a37-4610-c6f0-aa91dd22e8f4"
      },
      "execution_count": 12,
      "outputs": [
        {
          "output_type": "execute_result",
          "data": {
            "text/plain": [
              "      id  amount_tsh date_recorded                  funder  gps_height  \\\n",
              "0  50785         0.0    2013-02-04                    Dmdd        1996   \n",
              "1  51630         0.0    2013-02-04  Government Of Tanzania        1569   \n",
              "2  17168         0.0    2013-02-01                     NaN        1567   \n",
              "3  45559         0.0    2013-01-22              Finn Water         267   \n",
              "4  49871       500.0    2013-03-27                  Bruder        1260   \n",
              "\n",
              "    installer  longitude   latitude                 wpt_name  num_private  \\\n",
              "0        DMDD  35.290799  -4.059696  Dinamu Secondary School            0   \n",
              "1         DWE  36.656709  -3.309214                  Kimnyak            0   \n",
              "2         NaN  34.767863  -5.004344           Puma Secondary            0   \n",
              "3  FINN WATER  38.058046  -9.418672           Kwa Mzee Pange            0   \n",
              "4      BRUDER  35.006123 -10.950412          Kwa Mzee Turuka            0   \n",
              "\n",
              "   ... payment_type water_quality quality_group      quantity  quantity_group  \\\n",
              "0  ...    never pay          soft          good      seasonal        seasonal   \n",
              "1  ...    never pay          soft          good  insufficient    insufficient   \n",
              "2  ...    never pay          soft          good  insufficient    insufficient   \n",
              "3  ...      unknown          soft          good           dry             dry   \n",
              "4  ...      monthly          soft          good        enough          enough   \n",
              "\n",
              "                 source           source_type  source_class  \\\n",
              "0  rainwater harvesting  rainwater harvesting       surface   \n",
              "1                spring                spring   groundwater   \n",
              "2  rainwater harvesting  rainwater harvesting       surface   \n",
              "3          shallow well          shallow well   groundwater   \n",
              "4                spring                spring   groundwater   \n",
              "\n",
              "      waterpoint_type waterpoint_type_group  \n",
              "0               other                 other  \n",
              "1  communal standpipe    communal standpipe  \n",
              "2               other                 other  \n",
              "3               other                 other  \n",
              "4  communal standpipe    communal standpipe  \n",
              "\n",
              "[5 rows x 40 columns]"
            ],
            "text/html": [
              "\n",
              "  <div id=\"df-21c963ff-d877-4135-b64e-32c04a724b26\">\n",
              "    <div class=\"colab-df-container\">\n",
              "      <div>\n",
              "<style scoped>\n",
              "    .dataframe tbody tr th:only-of-type {\n",
              "        vertical-align: middle;\n",
              "    }\n",
              "\n",
              "    .dataframe tbody tr th {\n",
              "        vertical-align: top;\n",
              "    }\n",
              "\n",
              "    .dataframe thead th {\n",
              "        text-align: right;\n",
              "    }\n",
              "</style>\n",
              "<table border=\"1\" class=\"dataframe\">\n",
              "  <thead>\n",
              "    <tr style=\"text-align: right;\">\n",
              "      <th></th>\n",
              "      <th>id</th>\n",
              "      <th>amount_tsh</th>\n",
              "      <th>date_recorded</th>\n",
              "      <th>funder</th>\n",
              "      <th>gps_height</th>\n",
              "      <th>installer</th>\n",
              "      <th>longitude</th>\n",
              "      <th>latitude</th>\n",
              "      <th>wpt_name</th>\n",
              "      <th>num_private</th>\n",
              "      <th>...</th>\n",
              "      <th>payment_type</th>\n",
              "      <th>water_quality</th>\n",
              "      <th>quality_group</th>\n",
              "      <th>quantity</th>\n",
              "      <th>quantity_group</th>\n",
              "      <th>source</th>\n",
              "      <th>source_type</th>\n",
              "      <th>source_class</th>\n",
              "      <th>waterpoint_type</th>\n",
              "      <th>waterpoint_type_group</th>\n",
              "    </tr>\n",
              "  </thead>\n",
              "  <tbody>\n",
              "    <tr>\n",
              "      <th>0</th>\n",
              "      <td>50785</td>\n",
              "      <td>0.0</td>\n",
              "      <td>2013-02-04</td>\n",
              "      <td>Dmdd</td>\n",
              "      <td>1996</td>\n",
              "      <td>DMDD</td>\n",
              "      <td>35.290799</td>\n",
              "      <td>-4.059696</td>\n",
              "      <td>Dinamu Secondary School</td>\n",
              "      <td>0</td>\n",
              "      <td>...</td>\n",
              "      <td>never pay</td>\n",
              "      <td>soft</td>\n",
              "      <td>good</td>\n",
              "      <td>seasonal</td>\n",
              "      <td>seasonal</td>\n",
              "      <td>rainwater harvesting</td>\n",
              "      <td>rainwater harvesting</td>\n",
              "      <td>surface</td>\n",
              "      <td>other</td>\n",
              "      <td>other</td>\n",
              "    </tr>\n",
              "    <tr>\n",
              "      <th>1</th>\n",
              "      <td>51630</td>\n",
              "      <td>0.0</td>\n",
              "      <td>2013-02-04</td>\n",
              "      <td>Government Of Tanzania</td>\n",
              "      <td>1569</td>\n",
              "      <td>DWE</td>\n",
              "      <td>36.656709</td>\n",
              "      <td>-3.309214</td>\n",
              "      <td>Kimnyak</td>\n",
              "      <td>0</td>\n",
              "      <td>...</td>\n",
              "      <td>never pay</td>\n",
              "      <td>soft</td>\n",
              "      <td>good</td>\n",
              "      <td>insufficient</td>\n",
              "      <td>insufficient</td>\n",
              "      <td>spring</td>\n",
              "      <td>spring</td>\n",
              "      <td>groundwater</td>\n",
              "      <td>communal standpipe</td>\n",
              "      <td>communal standpipe</td>\n",
              "    </tr>\n",
              "    <tr>\n",
              "      <th>2</th>\n",
              "      <td>17168</td>\n",
              "      <td>0.0</td>\n",
              "      <td>2013-02-01</td>\n",
              "      <td>NaN</td>\n",
              "      <td>1567</td>\n",
              "      <td>NaN</td>\n",
              "      <td>34.767863</td>\n",
              "      <td>-5.004344</td>\n",
              "      <td>Puma Secondary</td>\n",
              "      <td>0</td>\n",
              "      <td>...</td>\n",
              "      <td>never pay</td>\n",
              "      <td>soft</td>\n",
              "      <td>good</td>\n",
              "      <td>insufficient</td>\n",
              "      <td>insufficient</td>\n",
              "      <td>rainwater harvesting</td>\n",
              "      <td>rainwater harvesting</td>\n",
              "      <td>surface</td>\n",
              "      <td>other</td>\n",
              "      <td>other</td>\n",
              "    </tr>\n",
              "    <tr>\n",
              "      <th>3</th>\n",
              "      <td>45559</td>\n",
              "      <td>0.0</td>\n",
              "      <td>2013-01-22</td>\n",
              "      <td>Finn Water</td>\n",
              "      <td>267</td>\n",
              "      <td>FINN WATER</td>\n",
              "      <td>38.058046</td>\n",
              "      <td>-9.418672</td>\n",
              "      <td>Kwa Mzee Pange</td>\n",
              "      <td>0</td>\n",
              "      <td>...</td>\n",
              "      <td>unknown</td>\n",
              "      <td>soft</td>\n",
              "      <td>good</td>\n",
              "      <td>dry</td>\n",
              "      <td>dry</td>\n",
              "      <td>shallow well</td>\n",
              "      <td>shallow well</td>\n",
              "      <td>groundwater</td>\n",
              "      <td>other</td>\n",
              "      <td>other</td>\n",
              "    </tr>\n",
              "    <tr>\n",
              "      <th>4</th>\n",
              "      <td>49871</td>\n",
              "      <td>500.0</td>\n",
              "      <td>2013-03-27</td>\n",
              "      <td>Bruder</td>\n",
              "      <td>1260</td>\n",
              "      <td>BRUDER</td>\n",
              "      <td>35.006123</td>\n",
              "      <td>-10.950412</td>\n",
              "      <td>Kwa Mzee Turuka</td>\n",
              "      <td>0</td>\n",
              "      <td>...</td>\n",
              "      <td>monthly</td>\n",
              "      <td>soft</td>\n",
              "      <td>good</td>\n",
              "      <td>enough</td>\n",
              "      <td>enough</td>\n",
              "      <td>spring</td>\n",
              "      <td>spring</td>\n",
              "      <td>groundwater</td>\n",
              "      <td>communal standpipe</td>\n",
              "      <td>communal standpipe</td>\n",
              "    </tr>\n",
              "  </tbody>\n",
              "</table>\n",
              "<p>5 rows × 40 columns</p>\n",
              "</div>\n",
              "      <button class=\"colab-df-convert\" onclick=\"convertToInteractive('df-21c963ff-d877-4135-b64e-32c04a724b26')\"\n",
              "              title=\"Convert this dataframe to an interactive table.\"\n",
              "              style=\"display:none;\">\n",
              "        \n",
              "  <svg xmlns=\"http://www.w3.org/2000/svg\" height=\"24px\"viewBox=\"0 0 24 24\"\n",
              "       width=\"24px\">\n",
              "    <path d=\"M0 0h24v24H0V0z\" fill=\"none\"/>\n",
              "    <path d=\"M18.56 5.44l.94 2.06.94-2.06 2.06-.94-2.06-.94-.94-2.06-.94 2.06-2.06.94zm-11 1L8.5 8.5l.94-2.06 2.06-.94-2.06-.94L8.5 2.5l-.94 2.06-2.06.94zm10 10l.94 2.06.94-2.06 2.06-.94-2.06-.94-.94-2.06-.94 2.06-2.06.94z\"/><path d=\"M17.41 7.96l-1.37-1.37c-.4-.4-.92-.59-1.43-.59-.52 0-1.04.2-1.43.59L10.3 9.45l-7.72 7.72c-.78.78-.78 2.05 0 2.83L4 21.41c.39.39.9.59 1.41.59.51 0 1.02-.2 1.41-.59l7.78-7.78 2.81-2.81c.8-.78.8-2.07 0-2.86zM5.41 20L4 18.59l7.72-7.72 1.47 1.35L5.41 20z\"/>\n",
              "  </svg>\n",
              "      </button>\n",
              "      \n",
              "  <style>\n",
              "    .colab-df-container {\n",
              "      display:flex;\n",
              "      flex-wrap:wrap;\n",
              "      gap: 12px;\n",
              "    }\n",
              "\n",
              "    .colab-df-convert {\n",
              "      background-color: #E8F0FE;\n",
              "      border: none;\n",
              "      border-radius: 50%;\n",
              "      cursor: pointer;\n",
              "      display: none;\n",
              "      fill: #1967D2;\n",
              "      height: 32px;\n",
              "      padding: 0 0 0 0;\n",
              "      width: 32px;\n",
              "    }\n",
              "\n",
              "    .colab-df-convert:hover {\n",
              "      background-color: #E2EBFA;\n",
              "      box-shadow: 0px 1px 2px rgba(60, 64, 67, 0.3), 0px 1px 3px 1px rgba(60, 64, 67, 0.15);\n",
              "      fill: #174EA6;\n",
              "    }\n",
              "\n",
              "    [theme=dark] .colab-df-convert {\n",
              "      background-color: #3B4455;\n",
              "      fill: #D2E3FC;\n",
              "    }\n",
              "\n",
              "    [theme=dark] .colab-df-convert:hover {\n",
              "      background-color: #434B5C;\n",
              "      box-shadow: 0px 1px 3px 1px rgba(0, 0, 0, 0.15);\n",
              "      filter: drop-shadow(0px 1px 2px rgba(0, 0, 0, 0.3));\n",
              "      fill: #FFFFFF;\n",
              "    }\n",
              "  </style>\n",
              "\n",
              "      <script>\n",
              "        const buttonEl =\n",
              "          document.querySelector('#df-21c963ff-d877-4135-b64e-32c04a724b26 button.colab-df-convert');\n",
              "        buttonEl.style.display =\n",
              "          google.colab.kernel.accessAllowed ? 'block' : 'none';\n",
              "\n",
              "        async function convertToInteractive(key) {\n",
              "          const element = document.querySelector('#df-21c963ff-d877-4135-b64e-32c04a724b26');\n",
              "          const dataTable =\n",
              "            await google.colab.kernel.invokeFunction('convertToInteractive',\n",
              "                                                     [key], {});\n",
              "          if (!dataTable) return;\n",
              "\n",
              "          const docLinkHtml = 'Like what you see? Visit the ' +\n",
              "            '<a target=\"_blank\" href=https://colab.research.google.com/notebooks/data_table.ipynb>data table notebook</a>'\n",
              "            + ' to learn more about interactive tables.';\n",
              "          element.innerHTML = '';\n",
              "          dataTable['output_type'] = 'display_data';\n",
              "          await google.colab.output.renderOutput(dataTable, element);\n",
              "          const docLink = document.createElement('div');\n",
              "          docLink.innerHTML = docLinkHtml;\n",
              "          element.appendChild(docLink);\n",
              "        }\n",
              "      </script>\n",
              "    </div>\n",
              "  </div>\n",
              "  "
            ]
          },
          "metadata": {},
          "execution_count": 12
        }
      ]
    },
    {
      "cell_type": "markdown",
      "source": [
        "# 2. Feature Selection- With Correlation\n",
        "\n",
        "https://github.com/krishnaik06/Complete-Feature-Selection/blob/master/2-Feature%20Selection-%20Correlation.ipynb"
      ],
      "metadata": {
        "id": "DdCr2fkG0Yt5"
      }
    },
    {
      "cell_type": "code",
      "source": [
        "df3_numerical_features=df[['amount_tsh','gps_height','longitude','latitude','num_private','region_code','district_code','population']]"
      ],
      "metadata": {
        "id": "xsVFLngr0tdw"
      },
      "execution_count": 28,
      "outputs": []
    },
    {
      "cell_type": "code",
      "source": [
        "corr = df.corr(method = 'spearman')\n",
        "\n",
        "sns.heatmap(corr, annot = True)\n",
        "\n",
        "plt.show()"
      ],
      "metadata": {
        "colab": {
          "base_uri": "https://localhost:8080/",
          "height": 349
        },
        "id": "A9gZT3LW0vnO",
        "outputId": "876cb934-3f51-478f-ce66-7f05646b7b89"
      },
      "execution_count": 29,
      "outputs": [
        {
          "output_type": "display_data",
          "data": {
            "text/plain": [
              "<Figure size 432x288 with 2 Axes>"
            ],
            "image/png": "[encoded data removed]"
          },
          "metadata": {
            "needs_background": "light"
          }
        }
      ]
    },
    {
      "cell_type": "code",
      "source": [
        "# with the following function we can select highly correlated features\n",
        "# it will remove the first feature that is correlated with anything other feature\n",
        "\n",
        "def correlation(dataset, threshold):\n",
        "    col_corr = set()  # Set of all the names of correlated columns\n",
        "    corr_matrix = dataset.corr(method = 'spearman')\n",
        "    for i in range(len(corr_matrix.columns)):\n",
        "        for j in range(i):\n",
        "            if abs(corr_matrix.iloc[i, j]) > threshold: # we are interested in absolute coeff value\n",
        "                colname = corr_matrix.columns[i]  # getting the name of column\n",
        "                col_corr.add(colname)\n",
        "    return col_corr"
      ],
      "metadata": {
        "id": "OZVXkMhZ0xef"
      },
      "execution_count": 30,
      "outputs": []
    },
    {
      "cell_type": "code",
      "source": [
        "corr_features = correlation(df3_numerical_features, 0.6)\n",
        "len(set(corr_features))"
      ],
      "metadata": {
        "colab": {
          "base_uri": "https://localhost:8080/"
        },
        "id": "fd7VZcep0zTu",
        "outputId": "cf4acd59-bfd3-4d1e-e9fa-ccf604a4aac1"
      },
      "execution_count": 31,
      "outputs": [
        {
          "output_type": "execute_result",
          "data": {
            "text/plain": [
              "0"
            ]
          },
          "metadata": {},
          "execution_count": 31
        }
      ]
    },
    {
      "cell_type": "code",
      "source": [
        "corr_features"
      ],
      "metadata": {
        "colab": {
          "base_uri": "https://localhost:8080/"
        },
        "id": "A1sqsFux0zM1",
        "outputId": "3611317d-8520-4e4c-e6df-238f0009fe7a"
      },
      "execution_count": 32,
      "outputs": [
        {
          "output_type": "execute_result",
          "data": {
            "text/plain": [
              "set()"
            ]
          },
          "metadata": {},
          "execution_count": 32
        }
      ]
    },
    {
      "cell_type": "markdown",
      "source": [
        "# 2.1 Remove less impacted and high correlation features"
      ],
      "metadata": {
        "id": "uBICQuKf04SO"
      }
    },
    {
      "cell_type": "code",
      "source": [
        "#https://www.geeksforgeeks.org/union-function-python/\n",
        "print(set(df.quantity.unique())),print(set(df.quantity_group.unique()))"
      ],
      "metadata": {
        "colab": {
          "base_uri": "https://localhost:8080/"
        },
        "id": "2FKDs4H73Rk3",
        "outputId": "2114a7cb-9edc-46ff-eed8-7ce9ba454c28"
      },
      "execution_count": 33,
      "outputs": [
        {
          "output_type": "stream",
          "name": "stdout",
          "text": [
            "{'enough', 'insufficient', 'seasonal', 'dry', 'unknown'}\n",
            "{'enough', 'insufficient', 'seasonal', 'dry', 'unknown'}\n"
          ]
        },
        {
          "output_type": "execute_result",
          "data": {
            "text/plain": [
              "(None, None)"
            ]
          },
          "metadata": {},
          "execution_count": 33
        }
      ]
    },
    {
      "cell_type": "code",
      "source": [
        "#quantity is highly correlated with quantity_group"
      ],
      "metadata": {
        "id": "jcZJByzO08RG"
      },
      "execution_count": 34,
      "outputs": []
    },
    {
      "cell_type": "markdown",
      "source": [
        "Both features quantity and quantity_group have almost 100 percentage commonality Hence it is recommended to remove any one of the feature"
      ],
      "metadata": {
        "id": "ASNl325n3dwu"
      }
    },
    {
      "cell_type": "code",
      "source": [
        "#https://www.geeksforgeeks.org/union-function-python/\n",
        "print(set(df.source_type.unique())),print(set(df.source.unique()))"
      ],
      "metadata": {
        "colab": {
          "base_uri": "https://localhost:8080/"
        },
        "id": "ZwxIwSNz3p1v",
        "outputId": "9a65131a-74b7-45ac-c79d-e9a2dc3fe4aa"
      },
      "execution_count": 35,
      "outputs": [
        {
          "output_type": "stream",
          "name": "stdout",
          "text": [
            "{'shallow well', 'borehole', 'rainwater harvesting', 'dam', 'other', 'spring', 'river/lake'}\n",
            "{'shallow well', 'lake', 'rainwater harvesting', 'hand dtw', 'dam', 'machine dbh', 'river', 'other', 'spring', 'unknown'}\n"
          ]
        },
        {
          "output_type": "execute_result",
          "data": {
            "text/plain": [
              "(None, None)"
            ]
          },
          "metadata": {},
          "execution_count": 35
        }
      ]
    },
    {
      "cell_type": "markdown",
      "source": [
        "All types of source_type are present in source feature hence its recommended to remove any one of the feature"
      ],
      "metadata": {
        "id": "0Qg1Gj7O311F"
      }
    },
    {
      "cell_type": "code",
      "source": [
        "#https://www.geeksforgeeks.org/union-function-python/\n",
        "print(set(df.payment_type.unique())),print(set(df.payment.unique()))"
      ],
      "metadata": {
        "colab": {
          "base_uri": "https://localhost:8080/"
        },
        "id": "Vb1wxL8G39me",
        "outputId": "b9bbf990-6cff-47c7-c882-3100b015e8b4"
      },
      "execution_count": 36,
      "outputs": [
        {
          "output_type": "stream",
          "name": "stdout",
          "text": [
            "{'monthly', 'never pay', 'per bucket', 'other', 'annually', 'on failure', 'unknown'}\n",
            "{'pay per bucket', 'pay when scheme fails', 'never pay', 'pay annually', 'other', 'pay monthly', 'unknown'}\n"
          ]
        },
        {
          "output_type": "execute_result",
          "data": {
            "text/plain": [
              "(None, None)"
            ]
          },
          "metadata": {},
          "execution_count": 36
        }
      ]
    },
    {
      "cell_type": "markdown",
      "source": [
        "As both payment and payment_type carries the similar information hence its recommended to remove any one of the feature"
      ],
      "metadata": {
        "id": "JwWYbgsM4CFu"
      }
    },
    {
      "cell_type": "code",
      "source": [
        "#https://www.geeksforgeeks.org/union-function-python/\n",
        "print(set(df.waterpoint_type_group.unique())),print(set(df.waterpoint_type.unique()))"
      ],
      "metadata": {
        "colab": {
          "base_uri": "https://localhost:8080/"
        },
        "id": "Px2oPDUY4F5G",
        "outputId": "83303d70-b59f-495d-a686-4c3e1e2d487e"
      },
      "execution_count": 37,
      "outputs": [
        {
          "output_type": "stream",
          "name": "stdout",
          "text": [
            "{'hand pump', 'cattle trough', 'communal standpipe', 'improved spring', 'dam', 'other'}\n",
            "{'hand pump', 'cattle trough', 'communal standpipe', 'communal standpipe multiple', 'improved spring', 'dam', 'other'}\n"
          ]
        },
        {
          "output_type": "execute_result",
          "data": {
            "text/plain": [
              "(None, None)"
            ]
          },
          "metadata": {},
          "execution_count": 37
        }
      ]
    },
    {
      "cell_type": "markdown",
      "source": [
        "Both waterpoint type group and water point type have almost carrying the similar information hence its recommended to remove one feature"
      ],
      "metadata": {
        "id": "1FrKHA1z4Iul"
      }
    },
    {
      "cell_type": "code",
      "source": [
        "#https://www.geeksforgeeks.org/union-function-python/\n",
        "print(set(df.extraction_type_group.unique())),print(set(df.extraction_type.unique()))"
      ],
      "metadata": {
        "colab": {
          "base_uri": "https://localhost:8080/"
        },
        "id": "BIvwcy_c4MBm",
        "outputId": "b0a03484-2eb5-4ad3-8baa-9638b68ed431"
      },
      "execution_count": 38,
      "outputs": [
        {
          "output_type": "stream",
          "name": "stdout",
          "text": [
            "{'afridev', 'submersible', 'other motorpump', 'india mark iii', 'mono', 'nira/tanira', 'swn 80', 'india mark ii', 'wind-powered', 'gravity', 'other handpump', 'other', 'rope pump'}\n",
            "{'afridev', 'submersible', 'ksb', 'other - play pump', 'india mark iii', 'mono', 'nira/tanira', 'swn 80', 'india mark ii', 'windmill', 'other - swn 81', 'climax', 'other - mkulima/shinyanga', 'gravity', 'walimi', 'other', 'cemo', 'other - rope pump'}\n"
          ]
        },
        {
          "output_type": "execute_result",
          "data": {
            "text/plain": [
              "(None, None)"
            ]
          },
          "metadata": {},
          "execution_count": 38
        }
      ]
    },
    {
      "cell_type": "markdown",
      "source": [
        "Both extraction_type_group and extraction_type_group have almost carrying the similar information hence its recommended to remove one feature\n",
        "\n",
        "scheme name almost 47 % of null values hence we can remove the feature\n",
        "\n",
        "97% values of num_private feature having 0 values hence it does not useful in predicting the class label hence it is recommended to delete this feature"
      ],
      "metadata": {
        "id": "8qCwDUKW4P1t"
      }
    },
    {
      "cell_type": "markdown",
      "source": [
        "# Forward feature selection"
      ],
      "metadata": {
        "id": "P7nXW9C2csWN"
      }
    },
    {
      "cell_type": "code",
      "source": [
        "#\n",
        "# Train/test split\n",
        "import joblib\n",
        "import sys\n",
        "sys.modules['sklearn.externals.joblib'] = joblib\n",
        "import numpy as np\n",
        "import pandas as pd\n",
        "from sklearn.ensemble import RandomForestClassifier\n",
        "from sklearn.model_selection import train_test_split\n",
        "from sklearn.metrics import accuracy_score as acc\n",
        "from mlxtend.feature_selection import SequentialFeatureSelector as sfs\n",
        "\n",
        "from sklearn import preprocessing\n",
        "le = preprocessing.LabelEncoder()\n",
        "le=le.fit(df.status_group)\n",
        "[(le.classes_)]\n",
        "y=le.transform(df['status_group'])\n",
        "\n",
        "X_train, X_test, y_train, y_test = train_test_split(\n",
        "    df_new,\n",
        "    y,\n",
        "    test_size=0.25,\n",
        "    random_state=42)\n",
        "\n",
        "y_train = y_train.ravel()\n",
        "y_test = y_test.ravel()\n",
        "\n",
        "print('Training dataset shape:', X_train.shape, y_train.shape)\n",
        "print('Testing dataset shape:', X_test.shape, y_test.shape)"
      ],
      "metadata": {
        "colab": {
          "base_uri": "https://localhost:8080/"
        },
        "id": "htMD0ZsvcwMd",
        "outputId": "fe0edb72-2930-4277-a596-3bbb0c945f6c"
      },
      "execution_count": 173,
      "outputs": [
        {
          "output_type": "stream",
          "name": "stdout",
          "text": [
            "Training dataset shape: (44550, 7) (44550,)\n",
            "Testing dataset shape: (14850, 7) (14850,)\n"
          ]
        }
      ]
    },
    {
      "cell_type": "code",
      "source": [
        "# Build RF classifier to use in feature selection\n",
        "clf = RandomForestClassifier(n_estimators=100, n_jobs=-1)\n",
        "\n",
        "# Build step forward feature selection\n",
        "sfs1 = sfs(clf,\n",
        "           k_features=7,\n",
        "           forward=True,\n",
        "           floating=False,\n",
        "           verbose=2,\n",
        "           scoring='accuracy',\n",
        "           cv=5)\n",
        "\n",
        "# Perform SFFS\n",
        "sfs1 = sfs1.fit(X_train, y_train)"
      ],
      "metadata": {
        "colab": {
          "base_uri": "https://localhost:8080/"
        },
        "id": "nt98Zl13eexo",
        "outputId": "d4cf16d6-4972-4c96-9e05-d64976cc4c72"
      },
      "execution_count": 84,
      "outputs": [
        {
          "output_type": "stream",
          "name": "stderr",
          "text": [
            "[Parallel(n_jobs=1)]: Using backend SequentialBackend with 1 concurrent workers.\n",
            "[Parallel(n_jobs=1)]: Done   1 out of   1 | elapsed:    5.5s remaining:    0.0s\n",
            "[Parallel(n_jobs=1)]: Done   7 out of   7 | elapsed:  1.7min finished\n",
            "\n",
            "[2022-10-28 07:34:11] Features: 1/7 -- score: 0.571986531986532[Parallel(n_jobs=1)]: Using backend SequentialBackend with 1 concurrent workers.\n",
            "[Parallel(n_jobs=1)]: Done   1 out of   1 | elapsed:    6.0s remaining:    0.0s\n",
            "[Parallel(n_jobs=1)]: Done   6 out of   6 | elapsed:  1.3min finished\n",
            "\n",
            "[2022-10-28 07:35:31] Features: 2/7 -- score: 0.6059932659932661[Parallel(n_jobs=1)]: Using backend SequentialBackend with 1 concurrent workers.\n",
            "[Parallel(n_jobs=1)]: Done   1 out of   1 | elapsed:    7.7s remaining:    0.0s\n",
            "[Parallel(n_jobs=1)]: Done   5 out of   5 | elapsed:  1.2min finished\n",
            "\n",
            "[2022-10-28 07:36:42] Features: 3/7 -- score: 0.6397081930415264[Parallel(n_jobs=1)]: Using backend SequentialBackend with 1 concurrent workers.\n",
            "[Parallel(n_jobs=1)]: Done   1 out of   1 | elapsed:    8.6s remaining:    0.0s\n",
            "[Parallel(n_jobs=1)]: Done   4 out of   4 | elapsed:  1.1min finished\n",
            "\n",
            "[2022-10-28 07:37:51] Features: 4/7 -- score: 0.6396184062850729[Parallel(n_jobs=1)]: Using backend SequentialBackend with 1 concurrent workers.\n",
            "[Parallel(n_jobs=1)]: Done   1 out of   1 | elapsed:   22.8s remaining:    0.0s\n",
            "[Parallel(n_jobs=1)]: Done   3 out of   3 | elapsed:   57.9s finished\n",
            "\n",
            "[2022-10-28 07:38:49] Features: 5/7 -- score: 0.6377553310886644[Parallel(n_jobs=1)]: Using backend SequentialBackend with 1 concurrent workers.\n",
            "[Parallel(n_jobs=1)]: Done   1 out of   1 | elapsed:   23.5s remaining:    0.0s\n",
            "[Parallel(n_jobs=1)]: Done   2 out of   2 | elapsed:   46.8s finished\n",
            "\n",
            "[2022-10-28 07:39:35] Features: 6/7 -- score: 0.6357126823793491[Parallel(n_jobs=1)]: Using backend SequentialBackend with 1 concurrent workers.\n",
            "[Parallel(n_jobs=1)]: Done   1 out of   1 | elapsed:   27.8s remaining:    0.0s\n",
            "[Parallel(n_jobs=1)]: Done   1 out of   1 | elapsed:   27.8s finished\n",
            "\n",
            "[2022-10-28 07:40:03] Features: 7/7 -- score: 0.6949270482603817"
          ]
        }
      ]
    },
    {
      "cell_type": "markdown",
      "source": [
        "BY using forward features selection we have keep numerical features as same since the model performance was high by keeping all features which was having a score of 69"
      ],
      "metadata": {
        "id": "34hRWlEfInt3"
      }
    },
    {
      "cell_type": "code",
      "source": [
        "df.columns"
      ],
      "metadata": {
        "colab": {
          "base_uri": "https://localhost:8080/"
        },
        "id": "_5X5X5cyod_r",
        "outputId": "3a9e7ed9-3e45-4d65-8873-1eb345d75b24"
      },
      "execution_count": 94,
      "outputs": [
        {
          "output_type": "execute_result",
          "data": {
            "text/plain": [
              "Index(['id', 'amount_tsh', 'date_recorded', 'funder', 'gps_height',\n",
              "       'installer', 'longitude', 'latitude', 'wpt_name', 'num_private',\n",
              "       'basin', 'subvillage', 'region', 'region_code', 'district_code', 'lga',\n",
              "       'ward', 'population', 'public_meeting', 'recorded_by',\n",
              "       'scheme_management', 'scheme_name', 'permit', 'construction_year',\n",
              "       'extraction_type', 'extraction_type_group', 'extraction_type_class',\n",
              "       'management', 'management_group', 'payment', 'payment_type',\n",
              "       'water_quality', 'quality_group', 'quantity', 'quantity_group',\n",
              "       'source', 'source_type', 'source_class', 'waterpoint_type',\n",
              "       'waterpoint_type_group', 'status_group'],\n",
              "      dtype='object')"
            ]
          },
          "metadata": {},
          "execution_count": 94
        }
      ]
    },
    {
      "cell_type": "markdown",
      "source": [
        "Mutual_info feature selection"
      ],
      "metadata": {
        "id": "yh4SE9qrxHjm"
      }
    },
    {
      "cell_type": "code",
      "source": [
        "df_mlm=df[['funder', \n",
        "       'installer',  'wpt_name',\n",
        "       'basin', 'subvillage', 'region', 'lga',\n",
        "       'ward', 'public_meeting', 'recorded_by',\n",
        "       'scheme_management', 'scheme_name',\n",
        "       'extraction_type', 'extraction_type_group', 'extraction_type_class',\n",
        "       'management', 'management_group', 'payment', 'payment_type',\n",
        "       'water_quality', 'quality_group', 'quantity', 'quantity_group',\n",
        "       'source', 'source_type', 'source_class', 'waterpoint_type',\n",
        "       'waterpoint_type_group',]]"
      ],
      "metadata": {
        "id": "AU72DU9tog3a"
      },
      "execution_count": 167,
      "outputs": []
    },
    {
      "cell_type": "code",
      "source": [
        "# Combining all the above stundents \n",
        "from tqdm import tqdm\n",
        "def preprocess_text(df,col):\n",
        "    preprocessed_text = []\n",
        "    # tqdm is for printing the status bar\n",
        "    df[col] = df[col] .str.replace('/', ' ')\n",
        "    df[col] = df[col].str.lower()\n",
        "    df[col] = df[col].str.replace(',','')\n",
        "    df[col] = df[col].str.replace('.','')\n",
        "    df[col] = df[col].fillna('unknown')\n",
        "    return df[col] "
      ],
      "metadata": {
        "id": "1La-m3ZMLS5I"
      },
      "execution_count": null,
      "outputs": []
    },
    {
      "cell_type": "code",
      "source": [
        "df_mlm['region'] = df_mlm['region'].fillna('unknown')\n",
        "df_mlm['lga']=df_mlm['lga'].fillna('unknown')\n",
        "df_mlm['ward']=df_mlm['ward'].fillna('unknown')\n",
        "df_mlm['public_meeting']=df_mlm['public_meeting'].fillna('unknown')\n",
        "df_mlm['recorded_by']=df_mlm['recorded_by'].fillna('unknown')\n",
        "\n",
        "df_mlm['scheme_name']=df_mlm['scheme_name'].fillna('unknown')\n",
        "df_mlm['permit']=df_mlm['permit'].fillna('unknown')\n",
        "df_mlm['extraction_type']=df_mlm['extraction_type'].fillna('unknown')\n",
        "\n",
        "df_mlm['extraction_type_group']=df_mlm['extraction_type_group'].fillna('unknown')\n",
        "df_mlm['extraction_type_class']=df_mlm['extraction_type_class'].fillna('unknown')\n",
        "df_mlm['management']=df_mlm['management'].fillna('unknown')\n",
        "\n",
        "df_mlm['management_group']=df_mlm['management_group'].fillna('unknown')\n",
        "df_mlm['water_quality']=df_mlm['water_quality'].fillna('unknown')\n",
        "df_mlm['quality_group']=df_mlm['quality_group'].fillna('unknown')"
      ],
      "metadata": {
        "id": "9AMMPxlYU__o"
      },
      "execution_count": 97,
      "outputs": []
    },
    {
      "cell_type": "code",
      "source": [
        "df_mlm['funder'] = df_mlm['funder'].fillna('unknown')\n",
        "df_mlm['installer']=df_mlm['installer'].fillna('unknown')\n",
        "df_mlm['subvillage']=df_mlm['subvillage'].fillna('unknown')\n",
        "df_mlm['public_meeting']=df_mlm['public_meeting'].fillna('unknown')\n",
        "df_mlm['scheme_management']=df_mlm['scheme_management'].fillna('unknown')\n",
        "\n"
      ],
      "metadata": {
        "id": "up5cpZGuqKOT"
      },
      "execution_count": 96,
      "outputs": []
    },
    {
      "cell_type": "code",
      "source": [
        "df_mlm['region'] = preprocess_text(df_mlm,'region')\n",
        "df_mlm['lga']=preprocess_text(df_mlm,'lga')\n",
        "df_mlm['ward']=preprocess_text(df_mlm,'ward')\n",
        "df_mlm['public_meeting']=preprocess_text(df_mlm,'public_meeting')\n",
        "df_mlm['recorded_by']=preprocess_text(df_mlm,'recorded_by')\n",
        "\n",
        "df_mlm['scheme_name']=preprocess_text(df_mlm,'scheme_name')\n",
        "#df_mlm['permit']=preprocess_text(df_mlm,'permit')\n",
        "df_mlm['extraction_type']=preprocess_text(df_mlm,'extraction_type')\n",
        "\n",
        "df_mlm['extraction_type_group']=preprocess_text(df_mlm,'extraction_type_group')\n",
        "df_mlm['extraction_type_class']=preprocess_text(df_mlm,'extraction_type_class')\n",
        "df_mlm['management']=preprocess_text(df_mlm,'management')\n",
        "\n",
        "df_mlm['management_group']=preprocess_text(df_mlm,'management_group')\n",
        "df_mlm['water_quality']=preprocess_text(df_mlm,'water_quality')\n",
        "df_mlm['quality_group']=preprocess_text(df_mlm,'quality_group')"
      ],
      "metadata": {
        "id": "Jn7WK0MuXekY"
      },
      "execution_count": 94,
      "outputs": []
    },
    {
      "cell_type": "code",
      "source": [
        "\n",
        "df_mlm['funder'] = preprocess_text(df_mlm,'funder')\n",
        "df_mlm['installer']=preprocess_text(df_mlm,'installer')\n",
        "df_mlm['subvillage']=preprocess_text(df_mlm,'subvillage')\n",
        "df_mlm['public_meeting']=preprocess_text(df_mlm,'public_meeting')\n",
        "df_mlm['scheme_management']=preprocess_text(df_mlm,'scheme_management')"
      ],
      "metadata": {
        "id": "ZGorbsAbroJE"
      },
      "execution_count": 95,
      "outputs": []
    },
    {
      "cell_type": "markdown",
      "source": [
        "# mutual information for categorical feature selection"
      ],
      "metadata": {
        "id": "s2zBUqq0JLUn"
      }
    },
    {
      "cell_type": "markdown",
      "source": [
        "# Model Built Using All Features"
      ],
      "metadata": {
        "id": "76jPSsJp9cDN"
      }
    },
    {
      "cell_type": "code",
      "source": [
        "#https://stackoverflow.com/questions/64969066/how-to-silence-sklearn-warning-on-logistic-regression\n",
        "# evaluation of a model using all input features\n",
        "#https://www.rasgoml.com/feature-engineering-tutorials/feature-selection-using-mutual-information-in-scikit-learn\n",
        "from pandas import read_csv\n",
        "from sklearn.preprocessing import LabelEncoder\n",
        "from sklearn.preprocessing import OrdinalEncoder\n",
        "from sklearn.model_selection import train_test_split\n",
        "from sklearn.linear_model import LogisticRegression\n",
        "from sklearn.metrics import accuracy_score\n",
        " \n",
        "# load the dataset\n",
        "def load_dataset(df_mlm):\n",
        "\t# load the dataset as a pandas DataFrame\n",
        "\t# retrieve numpy array\n",
        "\tdataset = df_mlm.values\n",
        "\t# split into input (X) and output (y) variables\n",
        "\tX = dataset[:, :-1]\n",
        "\ty = df['status_group']\n",
        "\t# format all fields as string\n",
        "\tX = X.astype(str)\n",
        "\treturn X, y\n",
        " \n",
        "# prepare input data\n",
        "def prepare_inputs(X_train, X_test):\n",
        "\toe = OrdinalEncoder(handle_unknown='use_encoded_value', unknown_value=-1)\n",
        "\toe.fit(X_train)\n",
        "\tX_train_enc = oe.transform(X_train)\n",
        "\tX_test_enc = oe.transform(X_test)\n",
        "\treturn X_train_enc, X_test_enc\n",
        " \n",
        "# prepare target\n",
        "# prepare target\n",
        "def prepare_targets(y_train, y_test):\n",
        "\tle = LabelEncoder()\n",
        "\tle.fit(y_train)\n",
        "\ty_train_enc = le.transform(y_train)\n",
        "\ty_test_enc = le.transform(y_test)\n",
        "\treturn y_train_enc, y_test_enc\n",
        " \n",
        "# load the dataset\n",
        "# load the dataset\n",
        "X, y = load_dataset(df_mlm)\n",
        "# split into train and test sets\n",
        "X_train, X_test, y_train, y_test = train_test_split(X, y, test_size=0.20, random_state=1)\n",
        "# prepare input data\n",
        "X_train_enc, X_test_enc = prepare_inputs(X_train, X_test)\n",
        "# prepare output data\n",
        "y_train_enc, y_test_enc = prepare_targets(y_train, y_test)\n",
        "# fit the model\n",
        "model = LogisticRegression(solver='lbfgs')\n",
        "model.fit(X_train_enc, y_train_enc)\n",
        "# evaluate the model\n",
        "yhat = model.predict(X_test_enc)\n",
        "# evaluate predictions\n",
        "accuracy = accuracy_score(y_test_enc, yhat)\n",
        "print('Accuracy: %.2f' % (accuracy*100))"
      ],
      "metadata": {
        "colab": {
          "base_uri": "https://localhost:8080/"
        },
        "id": "GLMgTCEh8pJJ",
        "outputId": "211286f0-f2de-46cc-fc5f-baa0f809ac16"
      },
      "execution_count": 116,
      "outputs": [
        {
          "output_type": "stream",
          "name": "stdout",
          "text": [
            "Accuracy: 53.53\n"
          ]
        }
      ]
    },
    {
      "cell_type": "code",
      "source": [
        "X_train_enc.shape, X_test_enc.shape,y_train_enc.shape, y_test_enc.shape"
      ],
      "metadata": {
        "colab": {
          "base_uri": "https://localhost:8080/"
        },
        "id": "MPED1hObZ50S",
        "outputId": "f045891c-f997-4f00-f629-f25226f36086"
      },
      "execution_count": 117,
      "outputs": [
        {
          "output_type": "execute_result",
          "data": {
            "text/plain": [
              "((47520, 28), (11880, 28), (47520,), (11880,))"
            ]
          },
          "metadata": {},
          "execution_count": 117
        }
      ]
    },
    {
      "cell_type": "markdown",
      "source": [
        "if you consider k=all then tha accuracy of model on test data was 53.53"
      ],
      "metadata": {
        "id": "pmlCEZfD6aGg"
      }
    },
    {
      "cell_type": "markdown",
      "source": [
        "# observed performance with different set of features"
      ],
      "metadata": {
        "id": "m7F3F3bDdT29"
      }
    },
    {
      "cell_type": "code",
      "source": [
        "from sklearn.feature_selection import SelectKBest\n",
        "from sklearn.feature_selection import chi2\n",
        "from sklearn.feature_selection import SelectKBest\n",
        "from sklearn.feature_selection import mutual_info_classif\n",
        "def select_features1(X_train, y_train, X_test,value):\n",
        "\tfs = SelectKBest(score_func=mutual_info_classif, k=value)\n",
        "\tfs.fit(X_train, y_train)\n",
        "\tX_train_fs = fs.transform(X_train)\n",
        "\tX_test_fs = fs.transform(X_test)\n",
        "\treturn X_train_fs, X_test_fs, fs"
      ],
      "metadata": {
        "id": "MngchQi1dSzd"
      },
      "execution_count": 118,
      "outputs": []
    },
    {
      "cell_type": "code",
      "source": [
        "#https://stackoverflow.com/questions/64969066/how-to-silence-sklearn-warning-on-logistic-regression\n",
        "from sklearn.linear_model import LogisticRegression\n",
        "from sklearn.metrics import accuracy_score\n",
        "from warnings import simplefilter\n",
        "list=[]\n",
        "accuracy_list=[]\n",
        "# ignore all warnings\n",
        "simplefilter(action='ignore')\n",
        "for i in range(20,28):\n",
        "  X_train_fs, X_test_fs, fs = select_features1(X_train_enc, y_train_enc, X_test_enc,value=i)\n",
        "  # fit the model\n",
        "  model = LogisticRegression()\n",
        "  model.fit(X_train_fs, y_train_enc)\n",
        "  # evaluate the model\n",
        "  yhat = model.predict(X_test_fs)\n",
        "  # evaluate predictions\n",
        "  print(i,'faetures')\n",
        "  accuracy = accuracy_score(y_test_enc, yhat)\n",
        "  print('Accuracy: %.2f' % (accuracy*100))\n",
        "  list.append(i)\n",
        "  accuracy_list.append(accuracy)"
      ],
      "metadata": {
        "colab": {
          "base_uri": "https://localhost:8080/"
        },
        "id": "GdHlZ5KjdpCs",
        "outputId": "8b758ac2-4601-41aa-b339-0809dd641c16"
      },
      "execution_count": 119,
      "outputs": [
        {
          "output_type": "stream",
          "name": "stdout",
          "text": [
            "20 faetures\n",
            "Accuracy: 53.13\n",
            "21 faetures\n",
            "Accuracy: 53.40\n",
            "22 faetures\n",
            "Accuracy: 53.47\n",
            "23 faetures\n",
            "Accuracy: 52.95\n",
            "24 faetures\n",
            "Accuracy: 53.64\n",
            "25 faetures\n",
            "Accuracy: 53.55\n",
            "26 faetures\n",
            "Accuracy: 52.92\n",
            "27 faetures\n",
            "Accuracy: 53.53\n"
          ]
        }
      ]
    },
    {
      "cell_type": "markdown",
      "source": [
        "if you consider k=24 then tha accuracy of model on test data was 53.64 which\n",
        "\n",
        " was higher than all features"
      ],
      "metadata": {
        "id": "D9-Hsja76xQF"
      }
    },
    {
      "cell_type": "code",
      "source": [
        "X_train_fs, X_test_fs, fs = select_features1(X_train_enc, y_train_enc, X_test_enc,value=24)\n",
        "# fit the model\n",
        "model1 = LogisticRegression()\n",
        "model1.fit(X_train_fs, y_train_enc)\n",
        "# evaluate the model\n",
        "yhat = model1.predict(X_test_fs)\n",
        "# evaluate predictions\n",
        "print(24,'faetures')\n",
        "accuracy = accuracy_score(y_test_enc, yhat)\n",
        "print('Accuracy: %.2f' % (accuracy*100))"
      ],
      "metadata": {
        "colab": {
          "base_uri": "https://localhost:8080/"
        },
        "id": "LlAuKF4Z_w57",
        "outputId": "311e569f-1427-46f5-fed8-cf574470e3ae"
      },
      "execution_count": 121,
      "outputs": [
        {
          "output_type": "stream",
          "name": "stdout",
          "text": [
            "24 faetures\n",
            "Accuracy: 53.64\n"
          ]
        }
      ]
    },
    {
      "cell_type": "code",
      "source": [
        "# what are scores for the features\n",
        "from matplotlib import pyplot\n",
        "for i in range(len(fs.scores_)):\n",
        "\tprint('Feature %d: %f' % (i, fs.scores_[i]))\n",
        "# plot the scores\n",
        "pyplot.bar([i for i in range(len(fs.scores_))], fs.scores_)\n",
        "pyplot.show()"
      ],
      "metadata": {
        "colab": {
          "base_uri": "https://localhost:8080/",
          "height": 773
        },
        "id": "zh7wWA_9AsKc",
        "outputId": "dab0ed7c-a7e0-4d82-da3d-aa93251c2459"
      },
      "execution_count": 123,
      "outputs": [
        {
          "output_type": "stream",
          "name": "stdout",
          "text": [
            "Feature 0: 0.095888\n",
            "Feature 1: 0.096367\n",
            "Feature 2: 0.034656\n",
            "Feature 3: 0.016474\n",
            "Feature 4: 0.114839\n",
            "Feature 5: 0.039490\n",
            "Feature 6: 0.091484\n",
            "Feature 7: 0.182308\n",
            "Feature 8: 0.006480\n",
            "Feature 9: 0.000000\n",
            "Feature 10: 0.019726\n",
            "Feature 11: 0.144192\n",
            "Feature 12: 0.005029\n",
            "Feature 13: 0.063807\n",
            "Feature 14: 0.061049\n",
            "Feature 15: 0.063944\n",
            "Feature 16: 0.018979\n",
            "Feature 17: 0.006880\n",
            "Feature 18: 0.041903\n",
            "Feature 19: 0.034976\n",
            "Feature 20: 0.020261\n",
            "Feature 21: 0.023949\n",
            "Feature 22: 0.106049\n",
            "Feature 23: 0.107303\n",
            "Feature 24: 0.023876\n",
            "Feature 25: 0.021046\n",
            "Feature 26: 0.004439\n",
            "Feature 27: 0.065669\n"
          ]
        },
        {
          "output_type": "display_data",
          "data": {
            "text/plain": [
              "<Figure size 432x288 with 1 Axes>"
            ],
            "image/png": "[encoded data removed]"
          },
          "metadata": {
            "needs_background": "light"
          }
        }
      ]
    },
    {
      "cell_type": "code",
      "source": [
        "dict={}\n",
        "for i in range(len(fs.scores_)):\n",
        "  dict[i]=fs.scores_[i]\n"
      ],
      "metadata": {
        "id": "56LUIHtMBNJD"
      },
      "execution_count": 127,
      "outputs": []
    },
    {
      "cell_type": "code",
      "source": [
        "\n",
        "from collections import OrderedDict\n",
        "d_descending = OrderedDict(sorted(dict.items(), \n",
        "                                  key=lambda kv: kv[1], reverse=True))"
      ],
      "metadata": {
        "id": "Woyj0dINCFb7"
      },
      "execution_count": 130,
      "outputs": []
    },
    {
      "cell_type": "code",
      "source": [
        "\n",
        "count=0\n",
        "imp_list=[]\n",
        "for i,j in d_descending.items():\n",
        "  count+=1\n",
        "  imp_list.append(i)\n",
        "  if count==24:\n",
        "    break"
      ],
      "metadata": {
        "id": "C_5G_a4ICpt1"
      },
      "execution_count": 136,
      "outputs": []
    },
    {
      "cell_type": "code",
      "source": [
        "imp_list"
      ],
      "metadata": {
        "colab": {
          "base_uri": "https://localhost:8080/"
        },
        "id": "pjx4W7AIDnaD",
        "outputId": "6e0b7238-88f8-471f-d7f7-836fe80ac6ca"
      },
      "execution_count": 138,
      "outputs": [
        {
          "output_type": "execute_result",
          "data": {
            "text/plain": [
              "24"
            ]
          },
          "metadata": {},
          "execution_count": 138
        }
      ]
    },
    {
      "cell_type": "code",
      "source": [
        "imp_feat=[]\n",
        "for i in imp_list:\n",
        "  pos = i\n",
        "  colname = df_mlm.columns[pos]\n",
        "  imp_feat.append(colname)"
      ],
      "metadata": {
        "id": "-Re9PirQD-bl"
      },
      "execution_count": 155,
      "outputs": []
    },
    {
      "cell_type": "code",
      "source": [
        "imp_feat\n"
      ],
      "metadata": {
        "colab": {
          "base_uri": "https://localhost:8080/"
        },
        "id": "CpKDalFZDwQN",
        "outputId": "2fe328ed-af56-47bd-f038-a4a65317891f"
      },
      "execution_count": 168,
      "outputs": [
        {
          "output_type": "execute_result",
          "data": {
            "text/plain": [
              "['ward',\n",
              " 'scheme_name',\n",
              " 'subvillage',\n",
              " 'quantity_group',\n",
              " 'quantity',\n",
              " 'installer',\n",
              " 'funder',\n",
              " 'lga',\n",
              " 'waterpoint_type',\n",
              " 'extraction_type_class',\n",
              " 'extraction_type',\n",
              " 'extraction_type_group',\n",
              " 'payment',\n",
              " 'region',\n",
              " 'payment_type',\n",
              " 'wpt_name',\n",
              " 'quality_group',\n",
              " 'source',\n",
              " 'source_type',\n",
              " 'water_quality',\n",
              " 'scheme_management',\n",
              " 'management',\n",
              " 'basin',\n",
              " 'management_group']"
            ]
          },
          "metadata": {},
          "execution_count": 168
        }
      ]
    },
    {
      "cell_type": "markdown",
      "source": [
        "Above top 24 features were included according to their performance and remaining features were removed"
      ],
      "metadata": {
        "id": "z1L9rP_AH51w"
      }
    },
    {
      "cell_type": "code",
      "source": [
        "for i in df_mlm.columns:\n",
        "  if i not in imp_feat:\n",
        "    print(i)"
      ],
      "metadata": {
        "colab": {
          "base_uri": "https://localhost:8080/"
        },
        "id": "ecLirCupGFOG",
        "outputId": "efc85d7c-c5fd-4010-81bd-68edd0e69318"
      },
      "execution_count": 169,
      "outputs": [
        {
          "output_type": "stream",
          "name": "stdout",
          "text": [
            "public_meeting\n",
            "recorded_by\n",
            "source_class\n",
            "waterpoint_type_group\n"
          ]
        }
      ]
    },
    {
      "cell_type": "markdown",
      "source": [
        "The above features we can drop so dimensionality reduces"
      ],
      "metadata": {
        "id": "y3yy5eAbHuDk"
      }
    },
    {
      "cell_type": "markdown",
      "source": [
        "# PCA "
      ],
      "metadata": {
        "id": "hfeLz-LyyM4a"
      }
    },
    {
      "cell_type": "code",
      "source": [
        "#https://towardsdatascience.com/how-to-select-the-best-number-of-principal-components-for-the-dataset-287e64b14c6d\n",
        "#https://www.datasklr.com/principal-component-analysis-and-factor-analysis/principal-component-analysis********************\n",
        "#https://towardsdatascience.com/feature-extraction-using-principal-component-analysis-a-simplified-visual-demo-e5592ced100a\n",
        "#https://towardsdatascience.com/pca-using-python-scikit-learn-e653f8989e60\n",
        "#https://sanchitamangale12.medium.com/scree-plot-733ed72c8608\n",
        "import numpy as np\n",
        "import matplotlib.pyplot as plt\n",
        "from sklearn.decomposition import PCA\n",
        "\n",
        "df.gps_height=df.gps_height.where(df.gps_height< 0, df.gps_height.mean())\n",
        "df.population=df.population.replace(0,df.population.mean())\n",
        "df.amount_tsh=df.amount_tsh.replace(0,df.amount_tsh.median())\n",
        "\n",
        "df_new=df[['amount_tsh','gps_height','longitude','latitude','region_code','district_code','population']]\n",
        "df_new.gps_height = preprocessing.MinMaxScaler().fit_transform(df_new.gps_height.values.reshape(-1,1))#standardize the values of differntmetrics in [0,1]\n",
        "\n",
        "\n",
        "\n",
        "df_new.amount_tsh = preprocessing.MinMaxScaler().fit_transform(df_new.amount_tsh.values.reshape(-1,1))\n",
        "\n",
        "df_new.longitude = preprocessing.MinMaxScaler().fit_transform(df_new.longitude.values.reshape(-1,1))\n",
        "\n",
        "df_new.latitude = preprocessing.MinMaxScaler().fit_transform(df_new.latitude.values.reshape(-1,1))\n",
        "\n",
        "\n",
        "\n",
        "df_new.region_code = preprocessing.MinMaxScaler().fit_transform(df_new.region_code.values.reshape(-1,1))\n",
        " \n",
        "df_new.district_code = preprocessing.MinMaxScaler().fit_transform(df_new.district_code.values.reshape(-1,1))\n",
        "\n",
        "\n",
        "df_new.population = preprocessing.MinMaxScaler().fit_transform(df_new.population.values.reshape(-1,1))\n",
        "\n",
        "df[\"construction_year\"]= pd.to_datetime(df['construction_year'])\n",
        "df[\"date_recorded\"]= pd.to_datetime(df['date_recorded'])\n",
        "\n",
        "from datetime import datetime\n",
        "\n",
        "\n",
        "duration =   df[\"date_recorded\"]-df[\"construction_year\"]                      # For build-in functions\n",
        "df_new.duration=duration.astype('timedelta64[D]')\n",
        "df_new.duration=np.array(df_new.duration).reshape(-1,1)\n",
        "\n",
        "pca=PCA(n_components=7)\n",
        "pca.fit(df_new)\n",
        "x_pca=pca.transform(df_new)\n",
        "x_pca.shape\n",
        "\n",
        "#from sklearn import preprocessing\n",
        "#le = preprocessing.LabelEncoder()\n",
        "#le=le.fit(df.status_group)\n",
        "#list(le.classes_)\n",
        "#y=le.transform(df['status_group'])\n",
        "\n",
        "#plt.figure(figsize=(8,6))\n",
        "#plt.scatter(x_pca[:,0],x_pca[:,1],c=y)\n",
        "#plt.xlabel('First principle component')\n",
        "#plt.ylabel('Second principle component')"
      ],
      "metadata": {
        "id": "SsL1uW811raC",
        "colab": {
          "base_uri": "https://localhost:8080/"
        },
        "outputId": "590b0591-e3ba-4e67-8d26-41a2bc4565a4"
      },
      "execution_count": 172,
      "outputs": [
        {
          "output_type": "execute_result",
          "data": {
            "text/plain": [
              "(59400, 7)"
            ]
          },
          "metadata": {},
          "execution_count": 172
        }
      ]
    },
    {
      "cell_type": "markdown",
      "source": [
        "# Scree plot"
      ],
      "metadata": {
        "id": "UXkucbkDfDsw"
      }
    },
    {
      "cell_type": "code",
      "source": [
        "import numpy as np\n",
        "import matplotlib\n",
        "import matplotlib.pyplot as plt\n",
        "\n",
        "PC_values = np.arange(pca.n_components_) + 1\n",
        "plt.plot(PC_values, np.cumsum(pca.explained_variance_ratio_), 'ro-', linewidth=2)\n",
        "plt.title('Scree Plot')\n",
        "plt.xlabel('Principal Component')\n",
        "plt.ylabel('Proportion of Variance Explained')\n",
        "plt.legend(['cdf of explained varaince ratio'])\n",
        "plt.show()"
      ],
      "metadata": {
        "colab": {
          "base_uri": "https://localhost:8080/",
          "height": 295
        },
        "id": "1Bx5URg3zm3l",
        "outputId": "abf130cc-678b-4f20-bb8c-9e743fe950c9"
      },
      "execution_count": 68,
      "outputs": [
        {
          "output_type": "display_data",
          "data": {
            "text/plain": [
              "<Figure size 432x288 with 1 Axes>"
            ],
            "image/png": "[encoded data removed]"
          },
          "metadata": {
            "needs_background": "light"
          }
        }
      ]
    },
    {
      "cell_type": "markdown",
      "source": [
        "By using scree plot the optimal number of principal_components was selected as 6 because at the optimal pc's the slope of the curve does not change much\n",
        "\n",
        "or \n",
        "\n",
        "we can select optimal number of pc's by using variance explained in % wise as we see the first 3 pc's cumulatively produces a total of 80 % variance of the data\n",
        "\n"
      ],
      "metadata": {
        "id": "pVHKi2ypdpWV"
      }
    },
    {
      "cell_type": "code",
      "source": [
        "from sklearn.decomposition import PCA\n",
        "\n",
        "pca = PCA(6)\n",
        "X_pca = pca.fit_transform(df_new)\n",
        "X_pca.shape"
      ],
      "metadata": {
        "colab": {
          "base_uri": "https://localhost:8080/"
        },
        "id": "mjNNbFxu0QrZ",
        "outputId": "fdbff7b4-09ef-4718-fead-9afb8b61dfda"
      },
      "execution_count": 41,
      "outputs": [
        {
          "output_type": "execute_result",
          "data": {
            "text/plain": [
              "(59400, 6)"
            ]
          },
          "metadata": {},
          "execution_count": 41
        }
      ]
    },
    {
      "cell_type": "code",
      "source": [
        "df_pca = pd.DataFrame(X_pca[:,0:6], columns=['pc1','pc2','pc3','pc4','pc5','pc6'])\n",
        "print (df_pca)"
      ],
      "metadata": {
        "colab": {
          "base_uri": "https://localhost:8080/"
        },
        "id": "WBGv4cYt3OLM",
        "outputId": "116b3041-ff2b-4571-a3e7-d97739c8d563"
      },
      "execution_count": 42,
      "outputs": [
        {
          "output_type": "stream",
          "name": "stdout",
          "text": [
            "            pc1       pc2       pc3       pc4       pc5       pc6\n",
            "0      0.302428 -0.149454 -0.112654  0.053694  0.023455 -0.002983\n",
            "1     -0.259078  0.098720  0.089537 -0.089393 -0.074571 -0.000415\n",
            "2     -0.103201  0.061708  0.090614 -0.104855 -0.062176 -0.001224\n",
            "3      0.783903  0.763646 -0.124732 -0.229952  0.245863 -0.010157\n",
            "4     -0.320841  0.104137  0.038075 -0.038669 -0.064824 -0.003333\n",
            "...         ...       ...       ...       ...       ...       ...\n",
            "59395 -0.197638 -0.065259  0.120420 -0.085205  0.037897 -0.003614\n",
            "59396  0.243827 -0.137307 -0.085808  0.037323  0.009513 -0.005013\n",
            "59397  0.219019 -0.098172 -0.096926  0.040719  0.039848 -0.001022\n",
            "59398  0.018121 -0.156674  0.010836 -0.004564  0.049986 -0.000788\n",
            "59399  0.071503 -0.155932  0.033797 -0.031656  0.002332 -0.002338\n",
            "\n",
            "[59400 rows x 6 columns]\n"
          ]
        }
      ]
    },
    {
      "cell_type": "code",
      "source": [
        "#https://www.kindsonthegenius.com/principal-components-analysispca-in-python-step-by-step/\n",
        "percent_variance = np.round(pca.explained_variance_ratio_* 100, decimals =2)\n",
        "columns = ['pc1','pc2','pc3','pc4','pc5','pc6']\n",
        "plt.bar(x= range(1,7), height=pca.explained_variance_ratio_, tick_label=columns)\n",
        "plt.ylabel('Percentate of Variance Explained')\n",
        "plt.xlabel('Principal Component')\n",
        "plt.title('PCA Scree Plot')\n",
        "plt.show()"
      ],
      "metadata": {
        "colab": {
          "base_uri": "https://localhost:8080/",
          "height": 295
        },
        "id": "WHtBk5iyXmJz",
        "outputId": "0faa310d-e808-4bb3-ba33-2f1eda3b65d0"
      },
      "execution_count": 70,
      "outputs": [
        {
          "output_type": "display_data",
          "data": {
            "text/plain": [
              "<Figure size 432x288 with 1 Axes>"
            ],
            "image/png": "[encoded data removed]"
          },
          "metadata": {
            "needs_background": "light"
          }
        }
      ]
    },
    {
      "cell_type": "code",
      "source": [
        "plt.scatter(df_pca.pc1, df_pca.pc2)\n",
        "plt.title('PC1 against PC2')\n",
        "plt.xlabel('PC1')\n",
        "plt.ylabel('PC2')"
      ],
      "metadata": {
        "colab": {
          "base_uri": "https://localhost:8080/",
          "height": 313
        },
        "id": "RlkCFlSQcTqy",
        "outputId": "e430ce8b-6d50-44a6-89ef-d4606cd5c18e"
      },
      "execution_count": 44,
      "outputs": [
        {
          "output_type": "execute_result",
          "data": {
            "text/plain": [
              "Text(0, 0.5, 'PC2')"
            ]
          },
          "metadata": {},
          "execution_count": 44
        },
        {
          "output_type": "display_data",
          "data": {
            "text/plain": [
              "<Figure size 432x288 with 1 Axes>"
            ],
            "image/png": "[encoded data removed]"
          },
          "metadata": {
            "needs_background": "light"
          }
        }
      ]
    },
    {
      "cell_type": "code",
      "source": [
        "from sklearn import preprocessing\n",
        "le = preprocessing.LabelEncoder()\n",
        "le=le.fit(df.status_group)\n",
        "#list(le.classes_)\n",
        "y1=le.transform(df.status_group)"
      ],
      "metadata": {
        "id": "e56k0cShO1Iu"
      },
      "execution_count": 45,
      "outputs": []
    },
    {
      "cell_type": "code",
      "source": [
        "plt.figure(figsize=(8,6))\n",
        "plt.scatter(df_pca.pc1,df_pca.pc2,c=y1)\n",
        "plt.xlabel('First principle component')\n",
        "plt.ylabel('Second principle component')"
      ],
      "metadata": {
        "colab": {
          "base_uri": "https://localhost:8080/",
          "height": 406
        },
        "id": "kiXu_NcPdXKw",
        "outputId": "ffac7c7e-b8ba-45ca-aea8-6bf0670b4aa0"
      },
      "execution_count": 46,
      "outputs": [
        {
          "output_type": "execute_result",
          "data": {
            "text/plain": [
              "Text(0, 0.5, 'Second principle component')"
            ]
          },
          "metadata": {},
          "execution_count": 46
        },
        {
          "output_type": "display_data",
          "data": {
            "text/plain": [
              "<Figure size 576x432 with 1 Axes>"
            ],
            "image/png": "[encoded data removed]"
          },
          "metadata": {
            "needs_background": "light"
          }
        }
      ]
    },
    {
      "cell_type": "markdown",
      "source": [
        "as we see from above plot the pc's dose not provide any information about the clusters form in the plot since they are highly overlapped with each other"
      ],
      "metadata": {
        "id": "SX-pBgJuedCy"
      }
    },
    {
      "cell_type": "code",
      "source": [
        "#df=df.join(df_pca)"
      ],
      "metadata": {
        "id": "g8wlkm016Y62"
      },
      "execution_count": 47,
      "outputs": []
    },
    {
      "cell_type": "code",
      "source": [
        "#df.columns"
      ],
      "metadata": {
        "colab": {
          "base_uri": "https://localhost:8080/"
        },
        "id": "175isbW1-r88",
        "outputId": "50e7c6c9-ce76-49a0-eb52-a955b354716d"
      },
      "execution_count": 48,
      "outputs": [
        {
          "output_type": "execute_result",
          "data": {
            "text/plain": [
              "Index(['id', 'amount_tsh', 'date_recorded', 'funder', 'gps_height',\n",
              "       'installer', 'longitude', 'latitude', 'wpt_name', 'num_private',\n",
              "       'basin', 'subvillage', 'region', 'region_code', 'district_code', 'lga',\n",
              "       'ward', 'population', 'public_meeting', 'recorded_by',\n",
              "       'scheme_management', 'scheme_name', 'permit', 'construction_year',\n",
              "       'extraction_type', 'extraction_type_group', 'extraction_type_class',\n",
              "       'management', 'management_group', 'payment', 'payment_type',\n",
              "       'water_quality', 'quality_group', 'quantity', 'quantity_group',\n",
              "       'source', 'source_type', 'source_class', 'waterpoint_type',\n",
              "       'waterpoint_type_group', 'status_group', 'pc1', 'pc2', 'pc3', 'pc4',\n",
              "       'pc5', 'pc6'],\n",
              "      dtype='object')"
            ]
          },
          "metadata": {},
          "execution_count": 48
        }
      ]
    },
    {
      "cell_type": "code",
      "source": [
        "#https://towardsdatascience.com/how-to-select-the-best-number-of-principal-components-for-the-dataset-287e64b14c6d\n",
        "#https://www.datasklr.com/principal-component-analysis-and-factor-analysis/principal-component-analysis********************\n",
        "\n",
        "#import numpy as np\n",
        "#import matplotlib.pyplot as plt\n",
        "from sklearn.decomposition import PCA\n",
        "\n",
        "df_test.gps_height=df.gps_height.where(df.gps_height< 0, df.gps_height.mean())\n",
        "df_test.population=df.population.replace(0,df.population.mean())\n",
        "df_test.amount_tsh=df.amount_tsh.replace(0,df.amount_tsh.median())\n",
        "\n",
        "df_new1=df_test[['amount_tsh','gps_height','longitude','latitude','region_code','district_code','population']]\n",
        "df_new1.gps_height = preprocessing.MinMaxScaler().fit_transform(df_new1.gps_height.values.reshape(-1,1))#standardize the values of differntmetrics in [0,1]\n",
        "\n",
        "\n",
        "\n",
        "df_new1.amount_tsh = preprocessing.MinMaxScaler().fit_transform(df_new1.amount_tsh.values.reshape(-1,1))\n",
        "\n",
        "df_new1.longitude = preprocessing.MinMaxScaler().fit_transform(df_new1.longitude.values.reshape(-1,1))\n",
        "\n",
        "df_new1.latitude = preprocessing.MinMaxScaler().fit_transform(df_new1.latitude.values.reshape(-1,1))\n",
        "\n",
        "\n",
        "\n",
        "df_new1.region_code = preprocessing.MinMaxScaler().fit_transform(df_new1.region_code.values.reshape(-1,1))\n",
        " \n",
        "df_new1.district_code = preprocessing.MinMaxScaler().fit_transform(df_new1.district_code.values.reshape(-1,1))\n",
        "\n",
        "\n",
        "df_new1.population = preprocessing.MinMaxScaler().fit_transform(df_new1.population.values.reshape(-1,1))\n",
        "\n",
        "df_test[\"construction_year\"]= pd.to_datetime(df_test['construction_year'])\n",
        "df_test[\"date_recorded\"]= pd.to_datetime(df_test['date_recorded'])\n",
        "\n",
        "from datetime import datetime\n",
        "\n",
        "\n",
        "duration =   df_test[\"date_recorded\"]-df_test[\"construction_year\"]                      # For build-in functions\n",
        "df_new1.duration=duration.astype('timedelta64[D]')\n",
        "df_new1.duration=np.array(df_new1.duration).reshape(-1,1)\n",
        "\n",
        "\n",
        "\n",
        "#plt.figure(figsize=(8,6))\n",
        "#plt.scatter(x_pca[:,0],x_pca[:,1],c=y)\n",
        "#plt.xlabel('First principle component')\n",
        "#plt.ylabel('Second principle component')"
      ],
      "metadata": {
        "colab": {
          "base_uri": "https://localhost:8080/"
        },
        "id": "NrhJVMJc0fE3",
        "outputId": "a4b64d5f-3055-4fba-d597-415b3a0b20f4"
      },
      "execution_count": 49,
      "outputs": [
        {
          "output_type": "stream",
          "name": "stderr",
          "text": [
            "/usr/local/lib/python3.7/dist-packages/pandas/core/generic.py:5516: SettingWithCopyWarning: \n",
            "A value is trying to be set on a copy of a slice from a DataFrame.\n",
            "Try using .loc[row_indexer,col_indexer] = value instead\n",
            "\n",
            "See the caveats in the documentation: https://pandas.pydata.org/pandas-docs/stable/user_guide/indexing.html#returning-a-view-versus-a-copy\n",
            "  self[name] = value\n",
            "/usr/local/lib/python3.7/dist-packages/pandas/core/generic.py:5516: SettingWithCopyWarning: \n",
            "A value is trying to be set on a copy of a slice from a DataFrame.\n",
            "Try using .loc[row_indexer,col_indexer] = value instead\n",
            "\n",
            "See the caveats in the documentation: https://pandas.pydata.org/pandas-docs/stable/user_guide/indexing.html#returning-a-view-versus-a-copy\n",
            "  self[name] = value\n",
            "/usr/local/lib/python3.7/dist-packages/pandas/core/generic.py:5516: SettingWithCopyWarning: \n",
            "A value is trying to be set on a copy of a slice from a DataFrame.\n",
            "Try using .loc[row_indexer,col_indexer] = value instead\n",
            "\n",
            "See the caveats in the documentation: https://pandas.pydata.org/pandas-docs/stable/user_guide/indexing.html#returning-a-view-versus-a-copy\n",
            "  self[name] = value\n",
            "/usr/local/lib/python3.7/dist-packages/pandas/core/generic.py:5516: SettingWithCopyWarning: \n",
            "A value is trying to be set on a copy of a slice from a DataFrame.\n",
            "Try using .loc[row_indexer,col_indexer] = value instead\n",
            "\n",
            "See the caveats in the documentation: https://pandas.pydata.org/pandas-docs/stable/user_guide/indexing.html#returning-a-view-versus-a-copy\n",
            "  self[name] = value\n",
            "/usr/local/lib/python3.7/dist-packages/pandas/core/generic.py:5516: SettingWithCopyWarning: \n",
            "A value is trying to be set on a copy of a slice from a DataFrame.\n",
            "Try using .loc[row_indexer,col_indexer] = value instead\n",
            "\n",
            "See the caveats in the documentation: https://pandas.pydata.org/pandas-docs/stable/user_guide/indexing.html#returning-a-view-versus-a-copy\n",
            "  self[name] = value\n",
            "/usr/local/lib/python3.7/dist-packages/pandas/core/generic.py:5516: SettingWithCopyWarning: \n",
            "A value is trying to be set on a copy of a slice from a DataFrame.\n",
            "Try using .loc[row_indexer,col_indexer] = value instead\n",
            "\n",
            "See the caveats in the documentation: https://pandas.pydata.org/pandas-docs/stable/user_guide/indexing.html#returning-a-view-versus-a-copy\n",
            "  self[name] = value\n",
            "/usr/local/lib/python3.7/dist-packages/pandas/core/generic.py:5516: SettingWithCopyWarning: \n",
            "A value is trying to be set on a copy of a slice from a DataFrame.\n",
            "Try using .loc[row_indexer,col_indexer] = value instead\n",
            "\n",
            "See the caveats in the documentation: https://pandas.pydata.org/pandas-docs/stable/user_guide/indexing.html#returning-a-view-versus-a-copy\n",
            "  self[name] = value\n",
            "/usr/local/lib/python3.7/dist-packages/ipykernel_launcher.py:39: UserWarning: Pandas doesn't allow columns to be created via a new attribute name - see https://pandas.pydata.org/pandas-docs/stable/indexing.html#attribute-access\n"
          ]
        }
      ]
    },
    {
      "cell_type": "code",
      "source": [
        "pca1=PCA(n_components=6)\n",
        "pca1.fit(df_new1)\n",
        "x_pca1=pca.transform(df_new1)\n",
        "x_pca1.shape"
      ],
      "metadata": {
        "colab": {
          "base_uri": "https://localhost:8080/"
        },
        "id": "0cWruu-O0m9o",
        "outputId": "579bec86-f291-4754-d101-aaccaa3ac8a3"
      },
      "execution_count": 50,
      "outputs": [
        {
          "output_type": "execute_result",
          "data": {
            "text/plain": [
              "(14850, 6)"
            ]
          },
          "metadata": {},
          "execution_count": 50
        }
      ]
    },
    {
      "cell_type": "code",
      "source": [
        "df_pca_test = pd.DataFrame(x_pca1[:,0:6], columns=['pc1','pc2','pc3','pc4','pc5','pc6'])\n",
        "print (df_pca_test)"
      ],
      "metadata": {
        "colab": {
          "base_uri": "https://localhost:8080/"
        },
        "id": "3TMyjlBo6GZU",
        "outputId": "8dfffff4-21b4-47ae-eef4-89719630d4e6"
      },
      "execution_count": 51,
      "outputs": [
        {
          "output_type": "stream",
          "name": "stdout",
          "text": [
            "            pc1       pc2       pc3       pc4       pc5       pc6\n",
            "0     -0.103134  0.061350  0.045005 -0.066851 -0.065320 -0.001981\n",
            "1     -0.205246 -0.088953  0.108424 -0.068284  0.012265  0.010587\n",
            "2     -0.061213 -0.030219  0.016418 -0.027454 -0.031877  0.008108\n",
            "3      0.582531  0.615953 -0.089368 -0.192712  0.077032 -0.008526\n",
            "4      0.384006 -0.197732 -0.144758  0.079802  0.009842  0.005314\n",
            "...         ...       ...       ...       ...       ...       ...\n",
            "14845  0.069817 -0.154430  0.048659 -0.044051 -0.016269  0.004240\n",
            "14846 -0.027523 -0.100170  0.065820 -0.057086  0.059372  0.004498\n",
            "14847 -0.093119 -0.019793  0.027820 -0.034626 -0.032861 -0.004411\n",
            "14848  0.357647 -0.196467 -0.127689  0.069337 -0.003279 -0.000075\n",
            "14849  0.402847 -0.203241 -0.156775  0.088280  0.011385  0.005432\n",
            "\n",
            "[14850 rows x 6 columns]\n"
          ]
        }
      ]
    },
    {
      "cell_type": "code",
      "source": [
        "df_test=df_test.join(df_pca_test)"
      ],
      "metadata": {
        "id": "YHPISDlR65zc"
      },
      "execution_count": 52,
      "outputs": []
    },
    {
      "cell_type": "code",
      "source": [
        "df_test.columns"
      ],
      "metadata": {
        "colab": {
          "base_uri": "https://localhost:8080/"
        },
        "id": "_2r13pZD7DX-",
        "outputId": "dea1eac8-1c8b-44e6-edbd-d176a3e1ab2c"
      },
      "execution_count": 53,
      "outputs": [
        {
          "output_type": "execute_result",
          "data": {
            "text/plain": [
              "Index(['id', 'amount_tsh', 'date_recorded', 'funder', 'gps_height',\n",
              "       'installer', 'longitude', 'latitude', 'wpt_name', 'num_private',\n",
              "       'basin', 'subvillage', 'region', 'region_code', 'district_code', 'lga',\n",
              "       'ward', 'population', 'public_meeting', 'recorded_by',\n",
              "       'scheme_management', 'scheme_name', 'permit', 'construction_year',\n",
              "       'extraction_type', 'extraction_type_group', 'extraction_type_class',\n",
              "       'management', 'management_group', 'payment', 'payment_type',\n",
              "       'water_quality', 'quality_group', 'quantity', 'quantity_group',\n",
              "       'source', 'source_type', 'source_class', 'waterpoint_type',\n",
              "       'waterpoint_type_group', 'pc1', 'pc2', 'pc3', 'pc4', 'pc5', 'pc6'],\n",
              "      dtype='object')"
            ]
          },
          "metadata": {},
          "execution_count": 53
        }
      ]
    },
    {
      "cell_type": "code",
      "source": [],
      "metadata": {
        "id": "J4pHdJOf9Qt8"
      },
      "execution_count": 53,
      "outputs": []
    },
    {
      "cell_type": "markdown",
      "source": [
        "# 3Vectorization"
      ],
      "metadata": {
        "id": "NqrK8FyT4lh1"
      }
    },
    {
      "cell_type": "markdown",
      "source": [
        "# form a new feature by combining longitude and latitude into one feature called harvesine_distance"
      ],
      "metadata": {
        "id": "PHlFqV_G4vgr"
      }
    },
    {
      "cell_type": "code",
      "source": [
        "from math import radians, cos, sin, asin, sqrt\n",
        "from sklearn import preprocessing\n",
        "from datetime import datetime\n",
        "import numpy as np\n",
        "import matplotlib.pyplot as plt\n",
        "from sklearn.feature_extraction.text import CountVectorizer"
      ],
      "metadata": {
        "id": "6v-ErU7a4vI2"
      },
      "execution_count": 10,
      "outputs": []
    },
    {
      "cell_type": "code",
      "source": [
        "#https://datascience.stackexchange.com/questions/49553/combining-latitude-longitude-position-into-single-feature?rq=1\n",
        "\n",
        "def single_pt_haversine(lat, lng, degrees=True):\n",
        "    \"\"\"\n",
        "    'Single-point' Haversine: Calculates the great circle distance\n",
        "    between a point on Earth and the (0, 0) lat-long coordinate\n",
        "    \"\"\"\n",
        "    r = 6371 # Earth's radius (km). Have r = 3956 if you want miles\n",
        "\n",
        "    # Convert decimal degrees to radians\n",
        "    if degrees:\n",
        "        lat, lng = map(radians, [lat, lng])\n",
        "\n",
        "    # 'Single-point' Haversine formula\n",
        "    a = sin(lat/2)**2 + cos(lat) * sin(lng/2)**2\n",
        "    d = 2 * r * asin(sqrt(a)) \n",
        "\n",
        "    return d\n",
        "\n",
        "df['harvesine_distance'] = [single_pt_haversine(x, y) for x, y in zip(df.latitude, df.longitude)]\n",
        "df_test['harvesine_distance'] = [single_pt_haversine(x, y) for x, y in zip(df_test.latitude, df_test.longitude)]\n"
      ],
      "metadata": {
        "id": "SYNCsr1c43sF"
      },
      "execution_count": 13,
      "outputs": []
    },
    {
      "cell_type": "code",
      "source": [
        "  #df_test.population=df.population.replace(0,df_test.population.mean())\n",
        "  #https://stackoverflow.com/questions/17097236/replace-invalid-values-with-none-in-pandas-dataframe\n",
        "  df_test.gps_height=df.gps_height.where(df.gps_height< 0, df.gps_height.mean())\n",
        "  df_test.population=df.population.replace(0,df.population.mean())\n",
        "  #df['funder']=df['funder'].replace(np.nan,df['funder'].mode)\n",
        "  df_test['funder'] = df_test['funder'].fillna('unknown')\n",
        "  df_test['installer']=df_test['installer'].fillna('unknown')\n",
        "  df_test['subvillage']=df_test['subvillage'].fillna('unknown')\n",
        "  df_test['public_meeting']=df_test['public_meeting'].fillna('unknown')\n",
        "  df_test['scheme_management']=df_test['scheme_management'].fillna('unknown')\n",
        "  df_test.amount_tsh=df.amount_tsh.replace(0,df.amount_tsh.median())\n"
      ],
      "metadata": {
        "id": "6zW0XGO145cl"
      },
      "execution_count": 14,
      "outputs": []
    },
    {
      "cell_type": "markdown",
      "source": [
        "Replace nan values with unknown,mean,median"
      ],
      "metadata": {
        "id": "aMqUsKX749UV"
      }
    },
    {
      "cell_type": "code",
      "source": [
        "#https://scikit-learn.org/stable/modules/generated/sklearn.feature_extraction.text.CountVectorizer.html\n",
        "def prepare_data(df,df_test):\n",
        "  #df=df.dropna()\n",
        "  #df.gps_height=df.gps_height.replace(0,df.gps_height.median())\n",
        "  df.gps_height=df.gps_height.where(df.gps_height< 0, df.gps_height.mean())\n",
        "  df.population=df.population.replace(0,df.population.mean())\n",
        "  #df['funder']=df['funder'].replace(np.nan,df['funder'].mode.values[0])\n",
        "  df['funder'] = df['funder'].fillna('unknown')\n",
        "  df['installer']=df['installer'].fillna('unknown')\n",
        "  df['subvillage']=df['subvillage'].fillna('unknown')\n",
        "  df['public_meeting']=df['public_meeting'].fillna('unknown')\n",
        "  df['scheme_management']=df['scheme_management'].fillna('unknown')\n",
        "  df.amount_tsh=df.amount_tsh.replace(0,df.amount_tsh.median())\n",
        "  X=df.drop(['status_group'],axis=1)\n",
        "  y=df.status_group\n",
        "  from sklearn.model_selection import train_test_split\n",
        "  #split the data into train test by using stratified sampling technique\n",
        "  X_train, X_cv, y_train, y_cv= train_test_split(X, y,stratify=y,test_size=0.10,random_state=42)\n",
        "  #X_train, X_test, y_train= X,df_test,y\n",
        "  X_test=df_test\n",
        "  from sklearn import preprocessing\n",
        "  le = preprocessing.LabelEncoder()\n",
        "  le=le.fit(df.status_group)\n",
        "  #list(le.classes_)\n",
        "  y_train=le.transform(y_train)\n",
        "  y_cv=le.transform(y_cv)\n",
        "  \n",
        "\n",
        "  # We are considering only the words which appeared in at least 5 documents(rows or projects)\n",
        "  #below code shows vectorization through one hot encoding\n",
        "  def dummy_enc(df,feature):\n",
        "    #df[feature] = df[feature].fillna(\"Unknown\")\n",
        "    vectorizer = CountVectorizer(min_df=5)\n",
        "    train = vectorizer.fit_transform(X_train[feature])\n",
        "    test = vectorizer.transform(X_test[feature])\n",
        "    cv=  vectorizer.transform(X_cv[feature])\n",
        "    return train,test,cv\n",
        "  \n",
        "  #X_train['funder'] = X_train['funder'].fillna(\"Unknown\")\n",
        "  #X_test['funder'] = X_test['funder'].fillna(\"Unknown\")\n",
        "  funder_ohe_train,funder_ohe_test,funder_ohe_cv=dummy_enc(X_train,'funder')\n",
        " \n",
        "  #X_train['installer'],X_test['installer'] = X_train['installer'].fillna(\"Unknown\"),X_test['installer'].fillna(\"Unknown\")\n",
        "  installer_ohe_train,installer_ohe_test,installer_ohe_cv=dummy_enc(X_train,'installer')\n",
        "  \n",
        "  #\n",
        "  wpt_name_ohe_train,wpt_name_ohe_test,wpt_name_ohe_cv=dummy_enc(X_train,'wpt_name')\n",
        "\n",
        "  basin_dummy_ohe_train,basin_dummy_ohe_test,basin_dummy_ohe_cv = dummy_enc(X_train,'basin') \n",
        "  \n",
        "  subvillage_ohe_train,subvillage_ohe_test,subvillage_ohe_cv = dummy_enc(X_train,'subvillage')\n",
        "\n",
        "  region_ohe_train,region_ohe_test,region_ohe_cv = dummy_enc(X_train,'region') \n",
        "\n",
        "  lga_ohe_train,lga_ohe_test,lga_ohe_cv = dummy_enc(X_train,'lga')\n",
        "\n",
        "  ward_ohe_train,ward_ohe_test,ward_ohe_cv = dummy_enc(X_train,'ward')\n",
        " \n",
        "  #public_meeting_ohe_train,public_meeting_ohe_test = dummy_enc(X_train,'public_meeting')\n",
        "\n",
        "  scheme_management_ohe_train,scheme_management_ohe_test,scheme_management_ohe_cv=dummy_enc(X_train,'scheme_management')\n",
        "\n",
        "  #scheme_name_ohe_train,scheme_name_ohe_test = dummy_enc(X_train,'scheme_name') #47% null values\n",
        "\n",
        "  extraction_type_ohe_train,extraction_type_ohe_test,extraction_type_ohe_cv= dummy_enc(X_train,'extraction_type')  \n",
        "\n",
        "  management_group_ohe_train,management_group_ohe_test,management_group_ohe_cv = dummy_enc(X_train,'management_group')\n",
        "  payment_type_ohe_train,payment_type_ohe_test,payment_type_ohe_cv = dummy_enc(X_train,'payment_type')\n",
        "\n",
        "  water_quality_ohe_train,water_quality_ohe_test,water_quality_ohe_cv = dummy_enc(X_train,'water_quality')\n",
        "\n",
        "  quantity_ohe_train,quantity_ohe_test,quantity_ohe_cv = dummy_enc(X_train,'quantity')\n",
        "\n",
        "  source_ohe_train,source_ohe_test,source_ohe_cv = dummy_enc(X_train,'source')\n",
        "\n",
        "  source_class_ohe_train,source_class_ohe_test,source_class_ohe_cv= dummy_enc(X_train,'source_class')\n",
        "\n",
        "  waterpoint_type_ohe_train,waterpoint_type_ohe_test,waterpoint_type_ohe_cv = dummy_enc(X_train,'waterpoint_type')\n",
        "\n",
        "  #numerical features\n",
        "  #standardize numerical features\n",
        "  df.gps_height=df.gps_height.replace(0,df.construction_year.median())\n",
        "  ##https://stackoverflow.com/questions/53723928/attributeerror-series-object-has-no-attribute-reshape\n",
        "  gps_height_train=X_train['gps_height'].values.reshape(-1,1) #reshape the column\n",
        "  gps_height_test=X_test['gps_height'].values.reshape(-1,1)\n",
        "  gps_height_cv=X_cv['gps_height'].values.reshape(-1,1)\n",
        "  gps_height_train = preprocessing.MinMaxScaler().fit_transform(gps_height_train)#standardize the values of differntmetrics in [0,1]\n",
        "  gps_height_test  = preprocessing.MinMaxScaler().fit_transform(gps_height_test)\n",
        "  gps_height_cv  = preprocessing.MinMaxScaler().fit_transform(gps_height_cv)\n",
        "\n",
        "  amount_tsh_train=X_train['amount_tsh'].values.reshape(-1,1)\n",
        "  amount_tsh_test=X_test['amount_tsh'].values.reshape(-1,1)\n",
        "  amount_tsh_cv=X_cv['amount_tsh'].values.reshape(-1,1)\n",
        "  amount_tsh_train = preprocessing.MinMaxScaler().fit_transform(amount_tsh_train)\n",
        "  amount_tsh_test  = preprocessing.MinMaxScaler().fit_transform(amount_tsh_test)\n",
        "  amount_tsh_cv  = preprocessing.MinMaxScaler().fit_transform(amount_tsh_cv)\n",
        "\n",
        "  harvesine_distance_train=X_train['harvesine_distance'].values.reshape(-1,1)\n",
        "  harvesine_distance_test=X_test['harvesine_distance'].values.reshape(-1,1)\n",
        "  harvesine_distance_cv=X_cv['harvesine_distance'].values.reshape(-1,1)\n",
        "  harvesine_distance_train = preprocessing.MinMaxScaler().fit_transform(harvesine_distance_train)\n",
        "  harvesine_distance_test  = preprocessing.MinMaxScaler().fit_transform(harvesine_distance_test)\n",
        "  harvesine_distance_cv  = preprocessing.MinMaxScaler().fit_transform(harvesine_distance_cv)\n",
        "\n",
        "  region_code_train=X_train['region_code'].values.reshape(-1,1)\n",
        "  region_code_test=X_test['region_code'].values.reshape(-1,1)\n",
        "  region_code_cv=X_cv['region_code'].values.reshape(-1,1)\n",
        "  region_code_train = preprocessing.MinMaxScaler().fit_transform(region_code_train)\n",
        "  region_code_test  = preprocessing.MinMaxScaler().fit_transform(region_code_test)\n",
        "  region_code_cv = preprocessing.MinMaxScaler().fit_transform(region_code_cv)\n",
        "  region_code_train.shape,region_code_test.shape\n",
        "\n",
        "  population_train=X_train['population'].values.reshape(-1,1)\n",
        "  population_test=X_test['population'].values.reshape(-1,1)\n",
        "  population_cv=X_cv['population'].values.reshape(-1,1)\n",
        "  population_train = preprocessing.MinMaxScaler().fit_transform(population_train)\n",
        "  population_test  = preprocessing.MinMaxScaler().fit_transform(population_test)\n",
        "  population_cv  = preprocessing.MinMaxScaler().fit_transform(population_cv)\n",
        "  population_train.shape,population_test.shape\n",
        "\n",
        "  #pca_train=X_train.pca\n",
        "  #pca_cv=X_cv.pca\n",
        "  #pca_test=X_test.pca\n",
        "  #X_train.pc1=X_train['pc1'].values.reshape(-1,1)\n",
        "  #X_cv.pc1=X_cv['pc1'].values.reshape(-1,1)\n",
        "  #X_test.pc1=X_test['pc1'].values.reshape(-1,1)\n",
        "\n",
        "  #stacking features horizontally by hstack into a sparse matrix \n",
        "  train=hstack((funder_ohe_train, installer_ohe_train,wpt_name_ohe_train,basin_dummy_ohe_train,\n",
        "              subvillage_ohe_train,region_ohe_train,lga_ohe_train,ward_ohe_train,\n",
        "              scheme_management_ohe_train,extraction_type_ohe_train,\n",
        "            management_group_ohe_train,payment_type_ohe_train,water_quality_ohe_train,\n",
        "            water_quality_ohe_train,quantity_ohe_train,source_ohe_train,\n",
        "            source_class_ohe_train,source_class_ohe_train,waterpoint_type_ohe_train,harvesine_distance_train)).tocsr() \n",
        "\n",
        "  test=hstack((funder_ohe_test, installer_ohe_test,wpt_name_ohe_test,basin_dummy_ohe_test,\n",
        "              subvillage_ohe_test,region_ohe_test,lga_ohe_test,ward_ohe_test,\n",
        "              scheme_management_ohe_test,extraction_type_ohe_test,\n",
        "            management_group_ohe_test,payment_type_ohe_test,water_quality_ohe_test,\n",
        "            water_quality_ohe_test,quantity_ohe_test,source_ohe_test,\n",
        "            source_class_ohe_test,source_class_ohe_test,waterpoint_type_ohe_test,\n",
        "            harvesine_distance_test)).tocsr()  \n",
        "\n",
        "  cv= hstack((funder_ohe_cv, installer_ohe_cv,wpt_name_ohe_cv,basin_dummy_ohe_cv,\n",
        "              subvillage_ohe_cv,region_ohe_cv,lga_ohe_cv,ward_ohe_cv,\n",
        "              scheme_management_ohe_cv,extraction_type_ohe_cv,\n",
        "            management_group_ohe_cv,payment_type_ohe_cv,water_quality_ohe_cv,\n",
        "            water_quality_ohe_cv,quantity_ohe_cv,source_ohe_cv,\n",
        "            source_class_ohe_cv,source_class_ohe_cv,waterpoint_type_ohe_cv,\n",
        "            harvesine_distance_cv\n",
        "           )).tocsr()             \n",
        "  \n",
        "  return train,test,cv,y_train,y_cv      "
      ],
      "metadata": {
        "id": "oanISD1w5AGc"
      },
      "execution_count": 17,
      "outputs": []
    },
    {
      "cell_type": "code",
      "source": [
        "from scipy.sparse import hstack\n",
        "train1,test1,cv1,y1_train,y1_cv=prepare_data(df,df_test)\n",
        "train1.shape,y1_train.shape,cv1.shape,test1.shape"
      ],
      "metadata": {
        "colab": {
          "base_uri": "https://localhost:8080/"
        },
        "id": "KwH1VHwl5CXs",
        "outputId": "88af84e6-ee78-4b93-cdbe-a1a85568f8e7"
      },
      "execution_count": 18,
      "outputs": [
        {
          "output_type": "execute_result",
          "data": {
            "text/plain": [
              "((53460, 7732), (53460,), (5940, 7732), (14850, 7732))"
            ]
          },
          "metadata": {},
          "execution_count": 18
        }
      ]
    },
    {
      "cell_type": "markdown",
      "source": [
        "# **Inferences:**\n",
        "\n",
        "###1)spearman rank correlation coefficient technique used for select the high correlated features with a threshold value of 0.6 \n",
        "\n",
        "###2)Manually select the features with high commanlity and remove those features which are highly correlated categorical features like  quantity and quantity_group,(source_type, source feature),(extraction_type_group and extraction_type_group),(waterpoint type group and water point type)\n",
        "\n",
        "###3)scheme name has almost 47 % of null values hence its recommended to remove the feature\n",
        "\n",
        "###4)form a new feature by combining longitude and latitude into one feature called harvesine_distance and studied the impact on the model\n",
        "\n",
        "###5)One-hot-encoding used to encode the categorical variables by using count-vectorizer with minimum data frequency of 5 times the sub-category should appear in the dataframe\n",
        "\n",
        "###6)Split the data into train_test split with stratify sampling technique to equally distribute the proprtions of data among train test data\n",
        "\n",
        "###7)Frequency encoding techniques were tested but a significant drop in model performance was noticed\n",
        "\n",
        "###8)standaradization techniques performed on numerical variables to keep them in the same scales which are having different units\n",
        "\n",
        "###9)label encoder  was performed on target class labels\n",
        "\n",
        "###10)Replace the missing values of numerical variables with mean or median and categorical variables as unknown quantity\n",
        "\n",
        "###11)After ohe all features were stacked through horizontal stacking to hold the information in sparse matrix since most of the values are 0\n",
        "\n",
        "###12)By using scree plot the optimal number of principal_components was selected as 6 because at the optimal pc's the slope of the curve does not change much  or\n",
        "\n",
        "###we can select optimal number of pc's by using variance explained in % wise as we see the first 3 pc's cumulatively produces a total of 80 % variance of the data\n",
        "\n",
        "###as we see from above plot the pc's dose not provide any information about the clusters form in the plot since they are highly overlapped with each other\n",
        "\n",
        "###13)by using forward feature selection and mutual_info feature selection we drop 4 features which were not impacted by model"
      ],
      "metadata": {
        "id": "-3f0meA1-xqE"
      }
    }
  ]
}