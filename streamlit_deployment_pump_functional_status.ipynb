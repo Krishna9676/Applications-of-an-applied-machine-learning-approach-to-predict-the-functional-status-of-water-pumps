{
  "cells": [
    {
      "cell_type": "code",
      "execution_count": 51,
      "metadata": {
        "id": "EEf--JWJUalI"
      },
      "outputs": [],
      "source": [
        "from math import radians, cos, sin, asin, sqrt\n",
        "from sklearn import preprocessing\n",
        "from datetime import datetime\n",
        "import numpy as np\n",
        "import matplotlib.pyplot as plt\n",
        "from sklearn.feature_extraction.text import CountVectorizer"
      ]
    },
    {
      "cell_type": "markdown",
      "metadata": {
        "id": "1fHBNqsAAslQ"
      },
      "source": [
        "#test set from data driven"
      ]
    },
    {
      "cell_type": "code",
      "execution_count": 52,
      "metadata": {
        "id": "aC1uSfr_cfz_"
      },
      "outputs": [],
      "source": [
        "import pandas as pd\n",
        "df_train_label=pd.read_csv('/content/train labels.csv')\n",
        "df_train_var=pd.read_csv('/content/train variables.csv')\n",
        "df=df_train_var.merge(df_train_label)"
      ]
    },
    {
      "cell_type": "code",
      "execution_count": 53,
      "metadata": {
        "id": "ZTEKGe7FA1Xe",
        "colab": {
          "base_uri": "https://localhost:8080/",
          "height": 404
        },
        "outputId": "f7e6f093-9017-487e-e5e3-bee9c9211ed3"
      },
      "outputs": [
        {
          "output_type": "execute_result",
          "data": {
            "text/plain": [
              "      id  amount_tsh date_recorded                  funder  gps_height  \\\n",
              "0  50785         0.0    2013-02-04                    Dmdd        1996   \n",
              "1  51630         0.0    2013-02-04  Government Of Tanzania        1569   \n",
              "2  17168         0.0    2013-02-01                     NaN        1567   \n",
              "3  45559         0.0    2013-01-22              Finn Water         267   \n",
              "4  49871       500.0    2013-03-27                  Bruder        1260   \n",
              "\n",
              "    installer  longitude   latitude                 wpt_name  num_private  \\\n",
              "0        DMDD  35.290799  -4.059696  Dinamu Secondary School            0   \n",
              "1         DWE  36.656709  -3.309214                  Kimnyak            0   \n",
              "2         NaN  34.767863  -5.004344           Puma Secondary            0   \n",
              "3  FINN WATER  38.058046  -9.418672           Kwa Mzee Pange            0   \n",
              "4      BRUDER  35.006123 -10.950412          Kwa Mzee Turuka            0   \n",
              "\n",
              "   ... payment_type water_quality quality_group      quantity  quantity_group  \\\n",
              "0  ...    never pay          soft          good      seasonal        seasonal   \n",
              "1  ...    never pay          soft          good  insufficient    insufficient   \n",
              "2  ...    never pay          soft          good  insufficient    insufficient   \n",
              "3  ...      unknown          soft          good           dry             dry   \n",
              "4  ...      monthly          soft          good        enough          enough   \n",
              "\n",
              "                 source           source_type  source_class  \\\n",
              "0  rainwater harvesting  rainwater harvesting       surface   \n",
              "1                spring                spring   groundwater   \n",
              "2  rainwater harvesting  rainwater harvesting       surface   \n",
              "3          shallow well          shallow well   groundwater   \n",
              "4                spring                spring   groundwater   \n",
              "\n",
              "      waterpoint_type waterpoint_type_group  \n",
              "0               other                 other  \n",
              "1  communal standpipe    communal standpipe  \n",
              "2               other                 other  \n",
              "3               other                 other  \n",
              "4  communal standpipe    communal standpipe  \n",
              "\n",
              "[5 rows x 40 columns]"
            ],
            "text/html": [
              "\n",
              "  <div id=\"df-1020d471-657e-4718-8fb4-5640c26444ae\">\n",
              "    <div class=\"colab-df-container\">\n",
              "      <div>\n",
              "<style scoped>\n",
              "    .dataframe tbody tr th:only-of-type {\n",
              "        vertical-align: middle;\n",
              "    }\n",
              "\n",
              "    .dataframe tbody tr th {\n",
              "        vertical-align: top;\n",
              "    }\n",
              "\n",
              "    .dataframe thead th {\n",
              "        text-align: right;\n",
              "    }\n",
              "</style>\n",
              "<table border=\"1\" class=\"dataframe\">\n",
              "  <thead>\n",
              "    <tr style=\"text-align: right;\">\n",
              "      <th></th>\n",
              "      <th>id</th>\n",
              "      <th>amount_tsh</th>\n",
              "      <th>date_recorded</th>\n",
              "      <th>funder</th>\n",
              "      <th>gps_height</th>\n",
              "      <th>installer</th>\n",
              "      <th>longitude</th>\n",
              "      <th>latitude</th>\n",
              "      <th>wpt_name</th>\n",
              "      <th>num_private</th>\n",
              "      <th>...</th>\n",
              "      <th>payment_type</th>\n",
              "      <th>water_quality</th>\n",
              "      <th>quality_group</th>\n",
              "      <th>quantity</th>\n",
              "      <th>quantity_group</th>\n",
              "      <th>source</th>\n",
              "      <th>source_type</th>\n",
              "      <th>source_class</th>\n",
              "      <th>waterpoint_type</th>\n",
              "      <th>waterpoint_type_group</th>\n",
              "    </tr>\n",
              "  </thead>\n",
              "  <tbody>\n",
              "    <tr>\n",
              "      <th>0</th>\n",
              "      <td>50785</td>\n",
              "      <td>0.0</td>\n",
              "      <td>2013-02-04</td>\n",
              "      <td>Dmdd</td>\n",
              "      <td>1996</td>\n",
              "      <td>DMDD</td>\n",
              "      <td>35.290799</td>\n",
              "      <td>-4.059696</td>\n",
              "      <td>Dinamu Secondary School</td>\n",
              "      <td>0</td>\n",
              "      <td>...</td>\n",
              "      <td>never pay</td>\n",
              "      <td>soft</td>\n",
              "      <td>good</td>\n",
              "      <td>seasonal</td>\n",
              "      <td>seasonal</td>\n",
              "      <td>rainwater harvesting</td>\n",
              "      <td>rainwater harvesting</td>\n",
              "      <td>surface</td>\n",
              "      <td>other</td>\n",
              "      <td>other</td>\n",
              "    </tr>\n",
              "    <tr>\n",
              "      <th>1</th>\n",
              "      <td>51630</td>\n",
              "      <td>0.0</td>\n",
              "      <td>2013-02-04</td>\n",
              "      <td>Government Of Tanzania</td>\n",
              "      <td>1569</td>\n",
              "      <td>DWE</td>\n",
              "      <td>36.656709</td>\n",
              "      <td>-3.309214</td>\n",
              "      <td>Kimnyak</td>\n",
              "      <td>0</td>\n",
              "      <td>...</td>\n",
              "      <td>never pay</td>\n",
              "      <td>soft</td>\n",
              "      <td>good</td>\n",
              "      <td>insufficient</td>\n",
              "      <td>insufficient</td>\n",
              "      <td>spring</td>\n",
              "      <td>spring</td>\n",
              "      <td>groundwater</td>\n",
              "      <td>communal standpipe</td>\n",
              "      <td>communal standpipe</td>\n",
              "    </tr>\n",
              "    <tr>\n",
              "      <th>2</th>\n",
              "      <td>17168</td>\n",
              "      <td>0.0</td>\n",
              "      <td>2013-02-01</td>\n",
              "      <td>NaN</td>\n",
              "      <td>1567</td>\n",
              "      <td>NaN</td>\n",
              "      <td>34.767863</td>\n",
              "      <td>-5.004344</td>\n",
              "      <td>Puma Secondary</td>\n",
              "      <td>0</td>\n",
              "      <td>...</td>\n",
              "      <td>never pay</td>\n",
              "      <td>soft</td>\n",
              "      <td>good</td>\n",
              "      <td>insufficient</td>\n",
              "      <td>insufficient</td>\n",
              "      <td>rainwater harvesting</td>\n",
              "      <td>rainwater harvesting</td>\n",
              "      <td>surface</td>\n",
              "      <td>other</td>\n",
              "      <td>other</td>\n",
              "    </tr>\n",
              "    <tr>\n",
              "      <th>3</th>\n",
              "      <td>45559</td>\n",
              "      <td>0.0</td>\n",
              "      <td>2013-01-22</td>\n",
              "      <td>Finn Water</td>\n",
              "      <td>267</td>\n",
              "      <td>FINN WATER</td>\n",
              "      <td>38.058046</td>\n",
              "      <td>-9.418672</td>\n",
              "      <td>Kwa Mzee Pange</td>\n",
              "      <td>0</td>\n",
              "      <td>...</td>\n",
              "      <td>unknown</td>\n",
              "      <td>soft</td>\n",
              "      <td>good</td>\n",
              "      <td>dry</td>\n",
              "      <td>dry</td>\n",
              "      <td>shallow well</td>\n",
              "      <td>shallow well</td>\n",
              "      <td>groundwater</td>\n",
              "      <td>other</td>\n",
              "      <td>other</td>\n",
              "    </tr>\n",
              "    <tr>\n",
              "      <th>4</th>\n",
              "      <td>49871</td>\n",
              "      <td>500.0</td>\n",
              "      <td>2013-03-27</td>\n",
              "      <td>Bruder</td>\n",
              "      <td>1260</td>\n",
              "      <td>BRUDER</td>\n",
              "      <td>35.006123</td>\n",
              "      <td>-10.950412</td>\n",
              "      <td>Kwa Mzee Turuka</td>\n",
              "      <td>0</td>\n",
              "      <td>...</td>\n",
              "      <td>monthly</td>\n",
              "      <td>soft</td>\n",
              "      <td>good</td>\n",
              "      <td>enough</td>\n",
              "      <td>enough</td>\n",
              "      <td>spring</td>\n",
              "      <td>spring</td>\n",
              "      <td>groundwater</td>\n",
              "      <td>communal standpipe</td>\n",
              "      <td>communal standpipe</td>\n",
              "    </tr>\n",
              "  </tbody>\n",
              "</table>\n",
              "<p>5 rows × 40 columns</p>\n",
              "</div>\n",
              "      <button class=\"colab-df-convert\" onclick=\"convertToInteractive('df-1020d471-657e-4718-8fb4-5640c26444ae')\"\n",
              "              title=\"Convert this dataframe to an interactive table.\"\n",
              "              style=\"display:none;\">\n",
              "        \n",
              "  <svg xmlns=\"http://www.w3.org/2000/svg\" height=\"24px\"viewBox=\"0 0 24 24\"\n",
              "       width=\"24px\">\n",
              "    <path d=\"M0 0h24v24H0V0z\" fill=\"none\"/>\n",
              "    <path d=\"M18.56 5.44l.94 2.06.94-2.06 2.06-.94-2.06-.94-.94-2.06-.94 2.06-2.06.94zm-11 1L8.5 8.5l.94-2.06 2.06-.94-2.06-.94L8.5 2.5l-.94 2.06-2.06.94zm10 10l.94 2.06.94-2.06 2.06-.94-2.06-.94-.94-2.06-.94 2.06-2.06.94z\"/><path d=\"M17.41 7.96l-1.37-1.37c-.4-.4-.92-.59-1.43-.59-.52 0-1.04.2-1.43.59L10.3 9.45l-7.72 7.72c-.78.78-.78 2.05 0 2.83L4 21.41c.39.39.9.59 1.41.59.51 0 1.02-.2 1.41-.59l7.78-7.78 2.81-2.81c.8-.78.8-2.07 0-2.86zM5.41 20L4 18.59l7.72-7.72 1.47 1.35L5.41 20z\"/>\n",
              "  </svg>\n",
              "      </button>\n",
              "      \n",
              "  <style>\n",
              "    .colab-df-container {\n",
              "      display:flex;\n",
              "      flex-wrap:wrap;\n",
              "      gap: 12px;\n",
              "    }\n",
              "\n",
              "    .colab-df-convert {\n",
              "      background-color: #E8F0FE;\n",
              "      border: none;\n",
              "      border-radius: 50%;\n",
              "      cursor: pointer;\n",
              "      display: none;\n",
              "      fill: #1967D2;\n",
              "      height: 32px;\n",
              "      padding: 0 0 0 0;\n",
              "      width: 32px;\n",
              "    }\n",
              "\n",
              "    .colab-df-convert:hover {\n",
              "      background-color: #E2EBFA;\n",
              "      box-shadow: 0px 1px 2px rgba(60, 64, 67, 0.3), 0px 1px 3px 1px rgba(60, 64, 67, 0.15);\n",
              "      fill: #174EA6;\n",
              "    }\n",
              "\n",
              "    [theme=dark] .colab-df-convert {\n",
              "      background-color: #3B4455;\n",
              "      fill: #D2E3FC;\n",
              "    }\n",
              "\n",
              "    [theme=dark] .colab-df-convert:hover {\n",
              "      background-color: #434B5C;\n",
              "      box-shadow: 0px 1px 3px 1px rgba(0, 0, 0, 0.15);\n",
              "      filter: drop-shadow(0px 1px 2px rgba(0, 0, 0, 0.3));\n",
              "      fill: #FFFFFF;\n",
              "    }\n",
              "  </style>\n",
              "\n",
              "      <script>\n",
              "        const buttonEl =\n",
              "          document.querySelector('#df-1020d471-657e-4718-8fb4-5640c26444ae button.colab-df-convert');\n",
              "        buttonEl.style.display =\n",
              "          google.colab.kernel.accessAllowed ? 'block' : 'none';\n",
              "\n",
              "        async function convertToInteractive(key) {\n",
              "          const element = document.querySelector('#df-1020d471-657e-4718-8fb4-5640c26444ae');\n",
              "          const dataTable =\n",
              "            await google.colab.kernel.invokeFunction('convertToInteractive',\n",
              "                                                     [key], {});\n",
              "          if (!dataTable) return;\n",
              "\n",
              "          const docLinkHtml = 'Like what you see? Visit the ' +\n",
              "            '<a target=\"_blank\" href=https://colab.research.google.com/notebooks/data_table.ipynb>data table notebook</a>'\n",
              "            + ' to learn more about interactive tables.';\n",
              "          element.innerHTML = '';\n",
              "          dataTable['output_type'] = 'display_data';\n",
              "          await google.colab.output.renderOutput(dataTable, element);\n",
              "          const docLink = document.createElement('div');\n",
              "          docLink.innerHTML = docLinkHtml;\n",
              "          element.appendChild(docLink);\n",
              "        }\n",
              "      </script>\n",
              "    </div>\n",
              "  </div>\n",
              "  "
            ]
          },
          "metadata": {},
          "execution_count": 53
        }
      ],
      "source": [
        "import pandas as pd\n",
        "df_test=pd.read_csv('/content/702ddfc5-68cd-4d1d-a0de-f5f566f76d91.csv')\n",
        "df_test.head()"
      ]
    },
    {
      "cell_type": "code",
      "execution_count": 54,
      "metadata": {
        "id": "M3Ot1-i1ptyO"
      },
      "outputs": [],
      "source": [
        "df.gps_height=df.gps_height.replace(0,df.gps_height.median())\n",
        "#df['funder']=df['funder'].replace(np.nan,df['funder'].mode)\n",
        "df['funder'] = df['funder'].fillna('unknown')\n",
        "df['installer']=df['installer'].fillna('unknown')\n",
        "df['subvillage']=df['subvillage'].fillna('unknown')\n",
        "df['public_meeting']=df['public_meeting'].fillna('unknown')\n",
        "df['scheme_management']=df['scheme_management'].fillna('unknown')\n",
        "#df.amount_tsh=df.amount_tsh.replace(0,df.amount_tsh.median())"
      ]
    },
    {
      "cell_type": "code",
      "execution_count": 55,
      "metadata": {
        "id": "ZLq92rqpytbY",
        "colab": {
          "base_uri": "https://localhost:8080/"
        },
        "outputId": "1ab924c1-96ed-4730-a408-fe80801c0c96"
      },
      "outputs": [
        {
          "output_type": "execute_result",
          "data": {
            "text/plain": [
              "True"
            ]
          },
          "metadata": {},
          "execution_count": 55
        }
      ],
      "source": [
        "df.isnull().values.any()"
      ]
    },
    {
      "cell_type": "code",
      "execution_count": 56,
      "metadata": {
        "id": "oql1Xy7U7_gw",
        "colab": {
          "base_uri": "https://localhost:8080/"
        },
        "outputId": "4b4f214d-504f-47ce-adac-753948ab6cab"
      },
      "outputs": [
        {
          "output_type": "stream",
          "name": "stdout",
          "text": [
            "number of null values 0\n"
          ]
        }
      ],
      "source": [
        "z=sum(pd.isnull(df.installer))\n",
        "print('number of null values',z)\n",
        "\n",
        "#df.isnull().sum()"
      ]
    },
    {
      "cell_type": "code",
      "execution_count": 57,
      "metadata": {
        "id": "zaTfT72nQhZb",
        "colab": {
          "base_uri": "https://localhost:8080/"
        },
        "outputId": "b52986d4-d1a0-4148-80b2-12722b08b5b4"
      },
      "outputs": [
        {
          "output_type": "execute_result",
          "data": {
            "text/plain": [
              "0              1\n",
              "1        unknown\n",
              "2              1\n",
              "3              1\n",
              "4              1\n",
              "          ...   \n",
              "59395          1\n",
              "59396          1\n",
              "59397          1\n",
              "59398          1\n",
              "59399          1\n",
              "Name: public_meeting, Length: 59400, dtype: object"
            ]
          },
          "metadata": {},
          "execution_count": 57
        }
      ],
      "source": [
        "df.public_meeting.replace([True, False,'NaN'],[1,0,1]) "
      ]
    },
    {
      "cell_type": "code",
      "execution_count": 58,
      "metadata": {
        "id": "jKM-Kk0b7jRw"
      },
      "outputs": [],
      "source": [
        "#dropped features\n",
        "#recordeed_by drop has constant value,scheme_name has 47% null values drop,\n",
        "#permit drop public meeting,\n",
        "#payment_type,quality group,quantity_group,source,source_class,waterpoint_type"
      ]
    },
    {
      "cell_type": "code",
      "execution_count": 59,
      "metadata": {
        "id": "Hb5Cd5HFgvGP"
      },
      "outputs": [],
      "source": [
        "#https://datascience.stackexchange.com/questions/49553/combining-latitude-longitude-position-into-single-feature?rq=1\n",
        "\n",
        "def single_pt_haversine(lat, lng, degrees=True):\n",
        "    \"\"\"\n",
        "    'Single-point' Haversine: Calculates the great circle distance\n",
        "    between a point on Earth and the (0, 0) lat-long coordinate\n",
        "    \"\"\"\n",
        "    r = 6371 # Earth's radius (km). Have r = 3956 if you want miles\n",
        "\n",
        "    # Convert decimal degrees to radians\n",
        "    if degrees:\n",
        "        lat, lng = map(radians, [lat, lng])\n",
        "\n",
        "    # 'Single-point' Haversine formula\n",
        "    a = sin(lat/2)**2 + cos(lat) * sin(lng/2)**2\n",
        "    d = 2 * r * asin(sqrt(a)) \n",
        "\n",
        "    return d\n",
        "\n",
        "df['harvesine_distance'] = [single_pt_haversine(x, y) for x, y in zip(df.latitude, df.longitude)]"
      ]
    },
    {
      "cell_type": "code",
      "execution_count": 60,
      "metadata": {
        "id": "ks_kp5PXZL1I"
      },
      "outputs": [],
      "source": [
        "df_test['harvesine_distance'] = [single_pt_haversine(x, y) for x, y in zip(df_test.latitude, df_test.longitude)]\n"
      ]
    },
    {
      "cell_type": "code",
      "execution_count": 61,
      "metadata": {
        "id": "GgZi_C81O6wM"
      },
      "outputs": [],
      "source": [
        "df['public_meeting']=df['public_meeting'].fillna(df['public_meeting'].mode().values[0])"
      ]
    },
    {
      "cell_type": "code",
      "execution_count": 62,
      "metadata": {
        "id": "9BE6Jzd8O_QL",
        "colab": {
          "base_uri": "https://localhost:8080/"
        },
        "outputId": "508c0556-a9fb-4011-8153-6b2cc423a027"
      },
      "outputs": [
        {
          "output_type": "stream",
          "name": "stdout",
          "text": [
            "number of null values 0\n"
          ]
        }
      ],
      "source": [
        "z=sum(pd.isnull(df.public_meeting))\n",
        "print('number of null values',z)"
      ]
    },
    {
      "cell_type": "markdown",
      "metadata": {
        "id": "PiuK4ARmO_At"
      },
      "source": []
    },
    {
      "cell_type": "code",
      "execution_count": 63,
      "metadata": {
        "id": "8Mdqa6Ch9KsV"
      },
      "outputs": [],
      "source": [
        "def prepare_data(df):\n",
        "  X=df.drop(['status_group'],axis=1)\n",
        "  #df.gps_height=df.gps_height.replace(0,df.gps_height.median())\n",
        "  df.gps_height=df.gps_height.where(df.gps_height< 0, df.gps_height.mean())\n",
        "  df.population=df.population.replace(0,df.population.mean())\n",
        "  #df['funder']=df['funder'].replace(np.nan,df['funder'].mode)\n",
        "  X['funder'] = X['funder'].fillna('unknown')\n",
        "  X['installer']=X['installer'].fillna('unknown')\n",
        "  X['subvillage']=X['subvillage'].fillna('unknown')\n",
        "  X['public_meeting']=X['public_meeting'].fillna('unknown')\n",
        "  X['scheme_management']=X['scheme_management'].fillna('unknown')\n",
        "  df.amount_tsh=df.amount_tsh.replace(0,df.amount_tsh.median())\n",
        "  y=df.status_group\n",
        "  from sklearn.model_selection import train_test_split\n",
        "  X_train, X_test, y_train, y_test = train_test_split(X, y,stratify=y,test_size=0.05,random_state=42)\n",
        "  from sklearn import preprocessing\n",
        "  le = preprocessing.LabelEncoder()\n",
        "  le=le.fit(df.status_group)\n",
        "  #list(le.classes_)\n",
        "  y_train=le.transform(y_train)\n",
        "  y_test=le.transform(y_test)\n",
        "  \n",
        "\n",
        "  # We are considering only the words which appeared in at least 10 documents(rows or projects).\n",
        "  def dummy_enc(df,feature):\n",
        "    #df[feature] = df[feature].fillna(\"Unknown\")\n",
        "    vectorizer = CountVectorizer(min_df=5)\n",
        "    train = vectorizer.fit_transform(X_train[feature])\n",
        "    test = vectorizer.transform(X_test[feature])\n",
        "    return train,test\n",
        "  \n",
        "  #X_train['funder'] = X_train['funder'].fillna(\"Unknown\")\n",
        "  #X_test['funder'] = X_test['funder'].fillna(\"Unknown\")\n",
        "  funder_ohe_train,funder_ohe_test=dummy_enc(X_train,'funder')\n",
        " \n",
        "  #X_train['installer'],X_test['installer'] = X_train['installer'].fillna(\"Unknown\"),X_test['installer'].fillna(\"Unknown\")\n",
        "  installer_ohe_train,installer_ohe_test=dummy_enc(X_train,'installer')\n",
        "  \n",
        "  #\n",
        "  wpt_name_ohe_train,wpt_name_ohe_test=dummy_enc(X_train,'wpt_name')\n",
        "\n",
        "  basin_dummy_ohe_train,basin_dummy_ohe_test = dummy_enc(X_train,'basin') \n",
        "  \n",
        "  subvillage_ohe_train,subvillage_ohe_test = dummy_enc(X_train,'subvillage')\n",
        "\n",
        "  region_ohe_train,region_ohe_test = dummy_enc(X_train,'region') \n",
        "\n",
        "  lga_ohe_train,lga_ohe_test = dummy_enc(X_train,'lga')\n",
        "\n",
        "  ward_ohe_train,ward_ohe_test = dummy_enc(X_train,'ward')\n",
        " \n",
        "  #public_meeting_ohe_train,public_meeting_ohe_test = dummy_enc(X_train,'public_meeting')\n",
        "\n",
        "  scheme_management_ohe_train,scheme_management_ohe_test=dummy_enc(X_train,'scheme_management')\n",
        "\n",
        "  #scheme_name_ohe_train,scheme_name_ohe_test = dummy_enc(X_train,'scheme_name') #47% null values\n",
        "\n",
        "  extraction_type_ohe_train,extraction_type_ohe_test = dummy_enc(X_train,'extraction_type')  \n",
        "\n",
        "  management_group_ohe_train,management_group_ohe_test = dummy_enc(X_train,'management_group')\n",
        "  payment_type_ohe_train,payment_type_ohe_test = dummy_enc(X_train,'payment_type')\n",
        "\n",
        "  water_quality_ohe_train,water_quality_ohe_test = dummy_enc(X_train,'water_quality')\n",
        "\n",
        "  quantity_ohe_train,quantity_ohe_test = dummy_enc(X_train,'quantity')\n",
        "\n",
        "  source_ohe_train,source_ohe_test = dummy_enc(X_train,'source')\n",
        "\n",
        "  source_class_ohe_train,source_class_ohe_test= dummy_enc(X_train,'source_class')\n",
        "\n",
        "  waterpoint_type_ohe_train,waterpoint_type_ohe_test = dummy_enc(X_train,'waterpoint_type')\n",
        "\n",
        "  #numerical features\n",
        "\n",
        "  df.gps_height=df.gps_height.replace(0,df.construction_year.median())\n",
        "  gps_height_train=X_train['gps_height'].values.reshape(-1,1)\n",
        "  gps_height_test=X_test['gps_height'].values.reshape(-1,1)\n",
        "  gps_height_train = preprocessing.StandardScaler().fit_transform(gps_height_train)\n",
        "  gps_height_test  = preprocessing.StandardScaler().fit_transform(gps_height_test)\n",
        "\n",
        "  amount_tsh_train=X_train['amount_tsh'].values.reshape(-1,1)\n",
        "  amount_tsh_test=X_test['amount_tsh'].values.reshape(-1,1)\n",
        "  amount_tsh_train = preprocessing.StandardScaler().fit_transform(amount_tsh_train)\n",
        "  amount_tsh_test  = preprocessing.StandardScaler().fit_transform(amount_tsh_test)\n",
        "\n",
        "  harvesine_distance_train=X_train['harvesine_distance'].values.reshape(-1,1)\n",
        "  harvesine_distance_test=X_test['harvesine_distance'].values.reshape(-1,1)\n",
        "  harvesine_distance_train = preprocessing.StandardScaler().fit_transform(harvesine_distance_train)\n",
        "  harvesine_distance_test  = preprocessing.StandardScaler().fit_transform(harvesine_distance_test)\n",
        "\n",
        "  region_code_train=X_train['region_code'].values.reshape(-1,1)\n",
        "  region_code_test=X_test['region_code'].values.reshape(-1,1)\n",
        "  region_code_train = preprocessing.StandardScaler().fit_transform(region_code_train)\n",
        "  region_code_test  = preprocessing.StandardScaler().fit_transform(region_code_test)\n",
        "  region_code_train.shape,region_code_test.shape\n",
        "\n",
        "  population_train=X_train['population'].values.reshape(-1,1)\n",
        "  population_test=X_test['population'].values.reshape(-1,1)\n",
        "  population_train = preprocessing.StandardScaler().fit_transform(population_train)\n",
        "  population_test  = preprocessing.StandardScaler().fit_transform(population_test)\n",
        "  population_train.shape,population_test.shape\n",
        "\n",
        "\n",
        "\n",
        "  train=hstack((funder_ohe_train, installer_ohe_train,wpt_name_ohe_train,basin_dummy_ohe_train,\n",
        "              subvillage_ohe_train,region_ohe_train,lga_ohe_train,ward_ohe_train,\n",
        "              scheme_management_ohe_train,extraction_type_ohe_train,\n",
        "            management_group_ohe_train,payment_type_ohe_train,water_quality_ohe_train,\n",
        "            water_quality_ohe_train,quantity_ohe_train,source_ohe_train,\n",
        "            source_class_ohe_train,source_class_ohe_train,waterpoint_type_ohe_train,\n",
        "            gps_height_train,amount_tsh_train,harvesine_distance_train,\n",
        "            population_train)).tocsr() \n",
        "\n",
        "  test=hstack((funder_ohe_test, installer_ohe_test,wpt_name_ohe_test,basin_dummy_ohe_test,\n",
        "              subvillage_ohe_test,region_ohe_test,lga_ohe_test,ward_ohe_test,\n",
        "              scheme_management_ohe_test,extraction_type_ohe_test,\n",
        "            management_group_ohe_test,payment_type_ohe_test,water_quality_ohe_test,\n",
        "            water_quality_ohe_test,quantity_ohe_test,source_ohe_test,\n",
        "            source_class_ohe_test,source_class_ohe_test,waterpoint_type_ohe_test,\n",
        "            gps_height_test,amount_tsh_test,harvesine_distance_test,\n",
        "            population_test)).tocsr()           \n",
        "  \n",
        "  return train,test,y_train,y_test       "
      ]
    },
    {
      "cell_type": "code",
      "execution_count": 64,
      "metadata": {
        "id": "5K8A7m_VrjAc"
      },
      "outputs": [],
      "source": [
        "from scipy.sparse import hstack\n"
      ]
    },
    {
      "cell_type": "markdown",
      "metadata": {
        "id": "BaEWtCk_mL0E"
      },
      "source": []
    },
    {
      "cell_type": "code",
      "execution_count": 65,
      "metadata": {
        "id": "-mqijXV74I5p"
      },
      "outputs": [],
      "source": [
        "train,test,y_train,y_test=prepare_data(df)"
      ]
    },
    {
      "cell_type": "code",
      "source": [],
      "metadata": {
        "id": "k8dO4OF-4ia0"
      },
      "execution_count": 65,
      "outputs": []
    },
    {
      "cell_type": "code",
      "source": [
        "#le.inverse_transform([2])#0-functional,1-functional needs repair,non functional\n"
      ],
      "metadata": {
        "id": "Eu4qzeSghHSv"
      },
      "execution_count": 66,
      "outputs": []
    },
    {
      "cell_type": "code",
      "execution_count": 67,
      "metadata": {
        "id": "5hI4S8Fw7eNA",
        "colab": {
          "base_uri": "https://localhost:8080/"
        },
        "outputId": "8db870cc-b274-4b07-c085-3bca7812cc01"
      },
      "outputs": [
        {
          "output_type": "stream",
          "name": "stderr",
          "text": [
            "/usr/local/lib/python3.7/dist-packages/sklearn/linear_model/_logistic.py:818: ConvergenceWarning: lbfgs failed to converge (status=1):\n",
            "STOP: TOTAL NO. of ITERATIONS REACHED LIMIT.\n",
            "\n",
            "Increase the number of iterations (max_iter) or scale the data as shown in:\n",
            "    https://scikit-learn.org/stable/modules/preprocessing.html\n",
            "Please also refer to the documentation for alternative solver options:\n",
            "    https://scikit-learn.org/stable/modules/linear_model.html#logistic-regression\n",
            "  extra_warning_msg=_LOGISTIC_SOLVER_CONVERGENCE_MSG,\n"
          ]
        },
        {
          "output_type": "execute_result",
          "data": {
            "text/plain": [
              "LogisticRegression(multi_class='multinomial')"
            ]
          },
          "metadata": {},
          "execution_count": 67
        }
      ],
      "source": [
        "...\n",
        "# define the multinomial logistic regression model\n",
        "from sklearn.linear_model import LogisticRegression\n",
        "model = LogisticRegression(multi_class='multinomial')\n",
        "model.fit(train,y_train)"
      ]
    },
    {
      "cell_type": "code",
      "source": [
        "classifier=model"
      ],
      "metadata": {
        "id": "l6Hlyc6sjACI"
      },
      "execution_count": 68,
      "outputs": []
    },
    {
      "cell_type": "code",
      "source": [
        "\n",
        "### Create a Pickle file using serialization \n",
        "import pickle\n",
        "pickle_out = open(\"classifier.pkl\",\"wb\")\n",
        "pickle.dump(classifier, pickle_out)\n",
        "pickle_out.close()"
      ],
      "metadata": {
        "id": "ez5dBqEii-SW"
      },
      "execution_count": 69,
      "outputs": []
    },
    {
      "cell_type": "code",
      "source": [
        "model.predict(test[688])"
      ],
      "metadata": {
        "id": "uqiaF8F3fVxA",
        "colab": {
          "base_uri": "https://localhost:8080/"
        },
        "outputId": "fd070bda-88b6-4d8e-f6dd-8f29aa03cd4e"
      },
      "execution_count": 70,
      "outputs": [
        {
          "output_type": "execute_result",
          "data": {
            "text/plain": [
              "array([0])"
            ]
          },
          "metadata": {},
          "execution_count": 70
        }
      ]
    },
    {
      "cell_type": "code",
      "source": [
        "classifier=model"
      ],
      "metadata": {
        "id": "MKzbodgsCNmG"
      },
      "execution_count": 71,
      "outputs": []
    },
    {
      "cell_type": "code",
      "source": [
        "train[0].todense()"
      ],
      "metadata": {
        "colab": {
          "base_uri": "https://localhost:8080/"
        },
        "id": "STQ1Ilmv587N",
        "outputId": "518d7689-f5ac-46aa-876e-8b3163bd47d0"
      },
      "execution_count": 72,
      "outputs": [
        {
          "output_type": "execute_result",
          "data": {
            "text/plain": [
              "matrix([[ 0.        ,  0.        ,  0.        , ..., -0.1054474 ,\n",
              "          0.22271645, -0.12588015]])"
            ]
          },
          "metadata": {},
          "execution_count": 72
        }
      ]
    },
    {
      "cell_type": "code",
      "source": [],
      "metadata": {
        "id": "Rf3nkSAZ6Yd8"
      },
      "execution_count": 72,
      "outputs": []
    }
  ],
  "metadata": {
    "colab": {
      "collapsed_sections": [],
      "provenance": []
    },
    "kernelspec": {
      "display_name": "Python 3",
      "name": "python3"
    },
    "language_info": {
      "name": "python"
    }
  },
  "nbformat": 4,
  "nbformat_minor": 0
}